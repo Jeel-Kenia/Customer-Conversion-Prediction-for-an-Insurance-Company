{
 "cells": [
  {
   "attachments": {},
   "cell_type": "markdown",
   "id": "a1ad2d60",
   "metadata": {},
   "source": [
    "## Customer Conversion Prediction"
   ]
  },
  {
   "cell_type": "code",
   "execution_count": 167,
   "id": "618fcced",
   "metadata": {},
   "outputs": [],
   "source": [
    "import pandas as pd\n",
    "import numpy as np\n",
    "import seaborn as sns\n",
    "import matplotlib.pyplot as plt"
   ]
  },
  {
   "cell_type": "code",
   "execution_count": 2,
   "id": "a49f4fa2",
   "metadata": {},
   "outputs": [],
   "source": [
    "url = 'train.csv'"
   ]
  },
  {
   "cell_type": "code",
   "execution_count": 58,
   "id": "457a89da",
   "metadata": {},
   "outputs": [],
   "source": [
    "df = pd.read_csv(url)"
   ]
  },
  {
   "attachments": {},
   "cell_type": "markdown",
   "id": "8c4b4656",
   "metadata": {},
   "source": [
    "## Data Cleaning"
   ]
  },
  {
   "cell_type": "code",
   "execution_count": 4,
   "id": "ee7c680c",
   "metadata": {},
   "outputs": [
    {
     "data": {
      "text/plain": [
       "(45211, 11)"
      ]
     },
     "execution_count": 4,
     "metadata": {},
     "output_type": "execute_result"
    }
   ],
   "source": [
    "df.shape"
   ]
  },
  {
   "cell_type": "code",
   "execution_count": 59,
   "id": "15493896",
   "metadata": {},
   "outputs": [
    {
     "data": {
      "text/plain": [
       "age               0\n",
       "job               0\n",
       "marital           0\n",
       "education_qual    0\n",
       "call_type         0\n",
       "day               0\n",
       "mon               0\n",
       "dur               0\n",
       "num_calls         0\n",
       "prev_outcome      0\n",
       "y                 0\n",
       "dtype: int64"
      ]
     },
     "execution_count": 59,
     "metadata": {},
     "output_type": "execute_result"
    }
   ],
   "source": [
    "df.isnull().sum()"
   ]
  },
  {
   "cell_type": "code",
   "execution_count": 6,
   "id": "2a47aa98",
   "metadata": {},
   "outputs": [
    {
     "data": {
      "text/plain": [
       "age                int64\n",
       "job               object\n",
       "marital           object\n",
       "education_qual    object\n",
       "call_type         object\n",
       "day                int64\n",
       "mon               object\n",
       "dur                int64\n",
       "num_calls          int64\n",
       "prev_outcome      object\n",
       "y                 object\n",
       "dtype: object"
      ]
     },
     "execution_count": 6,
     "metadata": {},
     "output_type": "execute_result"
    }
   ],
   "source": [
    "df.dtypes"
   ]
  },
  {
   "cell_type": "code",
   "execution_count": 7,
   "id": "c37dfa76",
   "metadata": {},
   "outputs": [
    {
     "data": {
      "text/html": [
       "<div>\n",
       "<style scoped>\n",
       "    .dataframe tbody tr th:only-of-type {\n",
       "        vertical-align: middle;\n",
       "    }\n",
       "\n",
       "    .dataframe tbody tr th {\n",
       "        vertical-align: top;\n",
       "    }\n",
       "\n",
       "    .dataframe thead th {\n",
       "        text-align: right;\n",
       "    }\n",
       "</style>\n",
       "<table border=\"1\" class=\"dataframe\">\n",
       "  <thead>\n",
       "    <tr style=\"text-align: right;\">\n",
       "      <th></th>\n",
       "      <th>age</th>\n",
       "      <th>day</th>\n",
       "      <th>dur</th>\n",
       "      <th>num_calls</th>\n",
       "    </tr>\n",
       "  </thead>\n",
       "  <tbody>\n",
       "    <tr>\n",
       "      <th>count</th>\n",
       "      <td>45211.000000</td>\n",
       "      <td>45211.000000</td>\n",
       "      <td>45211.000000</td>\n",
       "      <td>45211.000000</td>\n",
       "    </tr>\n",
       "    <tr>\n",
       "      <th>mean</th>\n",
       "      <td>40.936210</td>\n",
       "      <td>15.806419</td>\n",
       "      <td>258.163080</td>\n",
       "      <td>2.763841</td>\n",
       "    </tr>\n",
       "    <tr>\n",
       "      <th>std</th>\n",
       "      <td>10.618762</td>\n",
       "      <td>8.322476</td>\n",
       "      <td>257.527812</td>\n",
       "      <td>3.098021</td>\n",
       "    </tr>\n",
       "    <tr>\n",
       "      <th>min</th>\n",
       "      <td>18.000000</td>\n",
       "      <td>1.000000</td>\n",
       "      <td>0.000000</td>\n",
       "      <td>1.000000</td>\n",
       "    </tr>\n",
       "    <tr>\n",
       "      <th>25%</th>\n",
       "      <td>33.000000</td>\n",
       "      <td>8.000000</td>\n",
       "      <td>103.000000</td>\n",
       "      <td>1.000000</td>\n",
       "    </tr>\n",
       "    <tr>\n",
       "      <th>50%</th>\n",
       "      <td>39.000000</td>\n",
       "      <td>16.000000</td>\n",
       "      <td>180.000000</td>\n",
       "      <td>2.000000</td>\n",
       "    </tr>\n",
       "    <tr>\n",
       "      <th>75%</th>\n",
       "      <td>48.000000</td>\n",
       "      <td>21.000000</td>\n",
       "      <td>319.000000</td>\n",
       "      <td>3.000000</td>\n",
       "    </tr>\n",
       "    <tr>\n",
       "      <th>max</th>\n",
       "      <td>95.000000</td>\n",
       "      <td>31.000000</td>\n",
       "      <td>4918.000000</td>\n",
       "      <td>63.000000</td>\n",
       "    </tr>\n",
       "  </tbody>\n",
       "</table>\n",
       "</div>"
      ],
      "text/plain": [
       "                age           day           dur     num_calls\n",
       "count  45211.000000  45211.000000  45211.000000  45211.000000\n",
       "mean      40.936210     15.806419    258.163080      2.763841\n",
       "std       10.618762      8.322476    257.527812      3.098021\n",
       "min       18.000000      1.000000      0.000000      1.000000\n",
       "25%       33.000000      8.000000    103.000000      1.000000\n",
       "50%       39.000000     16.000000    180.000000      2.000000\n",
       "75%       48.000000     21.000000    319.000000      3.000000\n",
       "max       95.000000     31.000000   4918.000000     63.000000"
      ]
     },
     "execution_count": 7,
     "metadata": {},
     "output_type": "execute_result"
    }
   ],
   "source": [
    "df.describe()"
   ]
  },
  {
   "cell_type": "code",
   "execution_count": 60,
   "id": "58fd6afe",
   "metadata": {},
   "outputs": [
    {
     "data": {
      "text/html": [
       "<div>\n",
       "<style scoped>\n",
       "    .dataframe tbody tr th:only-of-type {\n",
       "        vertical-align: middle;\n",
       "    }\n",
       "\n",
       "    .dataframe tbody tr th {\n",
       "        vertical-align: top;\n",
       "    }\n",
       "\n",
       "    .dataframe thead th {\n",
       "        text-align: right;\n",
       "    }\n",
       "</style>\n",
       "<table border=\"1\" class=\"dataframe\">\n",
       "  <thead>\n",
       "    <tr style=\"text-align: right;\">\n",
       "      <th></th>\n",
       "      <th>age</th>\n",
       "      <th>job</th>\n",
       "      <th>marital</th>\n",
       "      <th>education_qual</th>\n",
       "      <th>call_type</th>\n",
       "      <th>day</th>\n",
       "      <th>mon</th>\n",
       "      <th>dur</th>\n",
       "      <th>num_calls</th>\n",
       "      <th>prev_outcome</th>\n",
       "      <th>y</th>\n",
       "    </tr>\n",
       "  </thead>\n",
       "  <tbody>\n",
       "    <tr>\n",
       "      <th>0</th>\n",
       "      <td>58</td>\n",
       "      <td>management</td>\n",
       "      <td>married</td>\n",
       "      <td>tertiary</td>\n",
       "      <td>unknown</td>\n",
       "      <td>5</td>\n",
       "      <td>may</td>\n",
       "      <td>261</td>\n",
       "      <td>1</td>\n",
       "      <td>unknown</td>\n",
       "      <td>no</td>\n",
       "    </tr>\n",
       "    <tr>\n",
       "      <th>1</th>\n",
       "      <td>44</td>\n",
       "      <td>technician</td>\n",
       "      <td>single</td>\n",
       "      <td>secondary</td>\n",
       "      <td>unknown</td>\n",
       "      <td>5</td>\n",
       "      <td>may</td>\n",
       "      <td>151</td>\n",
       "      <td>1</td>\n",
       "      <td>unknown</td>\n",
       "      <td>no</td>\n",
       "    </tr>\n",
       "    <tr>\n",
       "      <th>2</th>\n",
       "      <td>33</td>\n",
       "      <td>entrepreneur</td>\n",
       "      <td>married</td>\n",
       "      <td>secondary</td>\n",
       "      <td>unknown</td>\n",
       "      <td>5</td>\n",
       "      <td>may</td>\n",
       "      <td>76</td>\n",
       "      <td>1</td>\n",
       "      <td>unknown</td>\n",
       "      <td>no</td>\n",
       "    </tr>\n",
       "    <tr>\n",
       "      <th>3</th>\n",
       "      <td>47</td>\n",
       "      <td>blue-collar</td>\n",
       "      <td>married</td>\n",
       "      <td>unknown</td>\n",
       "      <td>unknown</td>\n",
       "      <td>5</td>\n",
       "      <td>may</td>\n",
       "      <td>92</td>\n",
       "      <td>1</td>\n",
       "      <td>unknown</td>\n",
       "      <td>no</td>\n",
       "    </tr>\n",
       "    <tr>\n",
       "      <th>4</th>\n",
       "      <td>33</td>\n",
       "      <td>unknown</td>\n",
       "      <td>single</td>\n",
       "      <td>unknown</td>\n",
       "      <td>unknown</td>\n",
       "      <td>5</td>\n",
       "      <td>may</td>\n",
       "      <td>198</td>\n",
       "      <td>1</td>\n",
       "      <td>unknown</td>\n",
       "      <td>no</td>\n",
       "    </tr>\n",
       "    <tr>\n",
       "      <th>5</th>\n",
       "      <td>35</td>\n",
       "      <td>management</td>\n",
       "      <td>married</td>\n",
       "      <td>tertiary</td>\n",
       "      <td>unknown</td>\n",
       "      <td>5</td>\n",
       "      <td>may</td>\n",
       "      <td>139</td>\n",
       "      <td>1</td>\n",
       "      <td>unknown</td>\n",
       "      <td>no</td>\n",
       "    </tr>\n",
       "    <tr>\n",
       "      <th>6</th>\n",
       "      <td>28</td>\n",
       "      <td>management</td>\n",
       "      <td>single</td>\n",
       "      <td>tertiary</td>\n",
       "      <td>unknown</td>\n",
       "      <td>5</td>\n",
       "      <td>may</td>\n",
       "      <td>217</td>\n",
       "      <td>1</td>\n",
       "      <td>unknown</td>\n",
       "      <td>no</td>\n",
       "    </tr>\n",
       "    <tr>\n",
       "      <th>7</th>\n",
       "      <td>42</td>\n",
       "      <td>entrepreneur</td>\n",
       "      <td>divorced</td>\n",
       "      <td>tertiary</td>\n",
       "      <td>unknown</td>\n",
       "      <td>5</td>\n",
       "      <td>may</td>\n",
       "      <td>380</td>\n",
       "      <td>1</td>\n",
       "      <td>unknown</td>\n",
       "      <td>no</td>\n",
       "    </tr>\n",
       "    <tr>\n",
       "      <th>8</th>\n",
       "      <td>58</td>\n",
       "      <td>retired</td>\n",
       "      <td>married</td>\n",
       "      <td>primary</td>\n",
       "      <td>unknown</td>\n",
       "      <td>5</td>\n",
       "      <td>may</td>\n",
       "      <td>50</td>\n",
       "      <td>1</td>\n",
       "      <td>unknown</td>\n",
       "      <td>no</td>\n",
       "    </tr>\n",
       "    <tr>\n",
       "      <th>9</th>\n",
       "      <td>43</td>\n",
       "      <td>technician</td>\n",
       "      <td>single</td>\n",
       "      <td>secondary</td>\n",
       "      <td>unknown</td>\n",
       "      <td>5</td>\n",
       "      <td>may</td>\n",
       "      <td>55</td>\n",
       "      <td>1</td>\n",
       "      <td>unknown</td>\n",
       "      <td>no</td>\n",
       "    </tr>\n",
       "  </tbody>\n",
       "</table>\n",
       "</div>"
      ],
      "text/plain": [
       "   age           job   marital education_qual call_type  day  mon  dur  \\\n",
       "0   58    management   married       tertiary   unknown    5  may  261   \n",
       "1   44    technician    single      secondary   unknown    5  may  151   \n",
       "2   33  entrepreneur   married      secondary   unknown    5  may   76   \n",
       "3   47   blue-collar   married        unknown   unknown    5  may   92   \n",
       "4   33       unknown    single        unknown   unknown    5  may  198   \n",
       "5   35    management   married       tertiary   unknown    5  may  139   \n",
       "6   28    management    single       tertiary   unknown    5  may  217   \n",
       "7   42  entrepreneur  divorced       tertiary   unknown    5  may  380   \n",
       "8   58       retired   married        primary   unknown    5  may   50   \n",
       "9   43    technician    single      secondary   unknown    5  may   55   \n",
       "\n",
       "   num_calls prev_outcome   y  \n",
       "0          1      unknown  no  \n",
       "1          1      unknown  no  \n",
       "2          1      unknown  no  \n",
       "3          1      unknown  no  \n",
       "4          1      unknown  no  \n",
       "5          1      unknown  no  \n",
       "6          1      unknown  no  \n",
       "7          1      unknown  no  \n",
       "8          1      unknown  no  \n",
       "9          1      unknown  no  "
      ]
     },
     "execution_count": 60,
     "metadata": {},
     "output_type": "execute_result"
    }
   ],
   "source": [
    "df.head(10)"
   ]
  },
  {
   "cell_type": "code",
   "execution_count": 9,
   "id": "b93066a8",
   "metadata": {},
   "outputs": [
    {
     "data": {
      "text/plain": [
       "Index(['age', 'job', 'marital', 'education_qual', 'call_type', 'day', 'mon',\n",
       "       'dur', 'num_calls', 'prev_outcome', 'y'],\n",
       "      dtype='object')"
      ]
     },
     "execution_count": 9,
     "metadata": {},
     "output_type": "execute_result"
    }
   ],
   "source": [
    "columns = df.columns\n",
    "columns"
   ]
  },
  {
   "attachments": {},
   "cell_type": "markdown",
   "id": "81557c96",
   "metadata": {},
   "source": [
    "### Age"
   ]
  },
  {
   "cell_type": "code",
   "execution_count": 10,
   "id": "687f3c7f",
   "metadata": {},
   "outputs": [
    {
     "data": {
      "text/plain": [
       "age\n",
       "32    2085\n",
       "31    1996\n",
       "33    1972\n",
       "34    1930\n",
       "35    1894\n",
       "      ... \n",
       "93       2\n",
       "90       2\n",
       "95       2\n",
       "88       2\n",
       "94       1\n",
       "Name: count, Length: 77, dtype: int64"
      ]
     },
     "execution_count": 10,
     "metadata": {},
     "output_type": "execute_result"
    }
   ],
   "source": [
    "df.age.value_counts()"
   ]
  },
  {
   "cell_type": "code",
   "execution_count": 168,
   "id": "06adcbde",
   "metadata": {},
   "outputs": [
    {
     "data": {
      "text/plain": [
       "count    45211.000000\n",
       "mean        40.936210\n",
       "std         10.618762\n",
       "min         18.000000\n",
       "25%         33.000000\n",
       "50%         39.000000\n",
       "75%         48.000000\n",
       "max         95.000000\n",
       "Name: age, dtype: float64"
      ]
     },
     "execution_count": 168,
     "metadata": {},
     "output_type": "execute_result"
    }
   ],
   "source": [
    "df.age.describe()"
   ]
  },
  {
   "attachments": {},
   "cell_type": "markdown",
   "id": "125a7c29",
   "metadata": {},
   "source": [
    "### Job"
   ]
  },
  {
   "cell_type": "code",
   "execution_count": 11,
   "id": "dc33687b",
   "metadata": {},
   "outputs": [
    {
     "data": {
      "text/plain": [
       "job\n",
       "blue-collar      9732\n",
       "management       9458\n",
       "technician       7597\n",
       "admin.           5171\n",
       "services         4154\n",
       "retired          2264\n",
       "self-employed    1579\n",
       "entrepreneur     1487\n",
       "unemployed       1303\n",
       "housemaid        1240\n",
       "student           938\n",
       "unknown           288\n",
       "Name: count, dtype: int64"
      ]
     },
     "execution_count": 11,
     "metadata": {},
     "output_type": "execute_result"
    }
   ],
   "source": [
    "df.job.value_counts()"
   ]
  },
  {
   "attachments": {},
   "cell_type": "markdown",
   "id": "c186199e",
   "metadata": {},
   "source": [
    "### Marital Status"
   ]
  },
  {
   "cell_type": "code",
   "execution_count": 12,
   "id": "cdfd6be6",
   "metadata": {},
   "outputs": [
    {
     "data": {
      "text/plain": [
       "marital\n",
       "married     27214\n",
       "single      12790\n",
       "divorced     5207\n",
       "Name: count, dtype: int64"
      ]
     },
     "execution_count": 12,
     "metadata": {},
     "output_type": "execute_result"
    }
   ],
   "source": [
    "df.marital.value_counts()"
   ]
  },
  {
   "attachments": {},
   "cell_type": "markdown",
   "id": "03b482b9",
   "metadata": {},
   "source": [
    "### Educational Qualification"
   ]
  },
  {
   "cell_type": "code",
   "execution_count": 13,
   "id": "e9505086",
   "metadata": {},
   "outputs": [
    {
     "data": {
      "text/plain": [
       "education_qual\n",
       "secondary    23202\n",
       "tertiary     13301\n",
       "primary       6851\n",
       "unknown       1857\n",
       "Name: count, dtype: int64"
      ]
     },
     "execution_count": 13,
     "metadata": {},
     "output_type": "execute_result"
    }
   ],
   "source": [
    "df.education_qual.value_counts()"
   ]
  },
  {
   "attachments": {},
   "cell_type": "markdown",
   "id": "07e04cd6",
   "metadata": {},
   "source": [
    "### Call Type"
   ]
  },
  {
   "cell_type": "code",
   "execution_count": 14,
   "id": "90873870",
   "metadata": {},
   "outputs": [
    {
     "data": {
      "text/plain": [
       "call_type\n",
       "cellular     29285\n",
       "unknown      13020\n",
       "telephone     2906\n",
       "Name: count, dtype: int64"
      ]
     },
     "execution_count": 14,
     "metadata": {},
     "output_type": "execute_result"
    }
   ],
   "source": [
    "df.call_type.value_counts()"
   ]
  },
  {
   "attachments": {},
   "cell_type": "markdown",
   "id": "a358a709",
   "metadata": {},
   "source": [
    "### Day of the month"
   ]
  },
  {
   "cell_type": "code",
   "execution_count": 15,
   "id": "fd66f36c",
   "metadata": {},
   "outputs": [
    {
     "data": {
      "text/plain": [
       "day\n",
       "20    2752\n",
       "18    2308\n",
       "21    2026\n",
       "17    1939\n",
       "6     1932\n",
       "5     1910\n",
       "14    1848\n",
       "8     1842\n",
       "28    1830\n",
       "7     1817\n",
       "19    1757\n",
       "29    1745\n",
       "15    1703\n",
       "12    1603\n",
       "13    1585\n",
       "30    1566\n",
       "9     1561\n",
       "11    1479\n",
       "4     1445\n",
       "16    1415\n",
       "2     1293\n",
       "27    1121\n",
       "3     1079\n",
       "26    1035\n",
       "23     939\n",
       "22     905\n",
       "25     840\n",
       "31     643\n",
       "10     524\n",
       "24     447\n",
       "1      322\n",
       "Name: count, dtype: int64"
      ]
     },
     "execution_count": 15,
     "metadata": {},
     "output_type": "execute_result"
    }
   ],
   "source": [
    "df.day.value_counts()"
   ]
  },
  {
   "attachments": {},
   "cell_type": "markdown",
   "id": "4118c8b8",
   "metadata": {},
   "source": [
    "### Month"
   ]
  },
  {
   "cell_type": "code",
   "execution_count": 16,
   "id": "54f131e6",
   "metadata": {},
   "outputs": [
    {
     "data": {
      "text/plain": [
       "mon\n",
       "may    13766\n",
       "jul     6895\n",
       "aug     6247\n",
       "jun     5341\n",
       "nov     3970\n",
       "apr     2932\n",
       "feb     2649\n",
       "jan     1403\n",
       "oct      738\n",
       "sep      579\n",
       "mar      477\n",
       "dec      214\n",
       "Name: count, dtype: int64"
      ]
     },
     "execution_count": 16,
     "metadata": {},
     "output_type": "execute_result"
    }
   ],
   "source": [
    "df.mon.value_counts()"
   ]
  },
  {
   "attachments": {},
   "cell_type": "markdown",
   "id": "c9363453",
   "metadata": {},
   "source": [
    "### Duration"
   ]
  },
  {
   "cell_type": "code",
   "execution_count": 17,
   "id": "b12a2947",
   "metadata": {},
   "outputs": [
    {
     "data": {
      "text/plain": [
       "dur\n",
       "124     188\n",
       "90      184\n",
       "89      177\n",
       "104     175\n",
       "122     175\n",
       "       ... \n",
       "1833      1\n",
       "1545      1\n",
       "1352      1\n",
       "1342      1\n",
       "1556      1\n",
       "Name: count, Length: 1573, dtype: int64"
      ]
     },
     "execution_count": 17,
     "metadata": {},
     "output_type": "execute_result"
    }
   ],
   "source": [
    "df.dur.value_counts()"
   ]
  },
  {
   "cell_type": "code",
   "execution_count": 62,
   "id": "0633ff02",
   "metadata": {},
   "outputs": [
    {
     "data": {
      "text/plain": [
       "count    45211.000000\n",
       "mean       258.163080\n",
       "std        257.527812\n",
       "min          0.000000\n",
       "25%        103.000000\n",
       "50%        180.000000\n",
       "75%        319.000000\n",
       "max       4918.000000\n",
       "Name: dur, dtype: float64"
      ]
     },
     "execution_count": 62,
     "metadata": {},
     "output_type": "execute_result"
    }
   ],
   "source": [
    "df.dur.describe() #potential outliers"
   ]
  },
  {
   "attachments": {},
   "cell_type": "markdown",
   "id": "714bd55d",
   "metadata": {},
   "source": [
    "There are potential outliers in the data as the 75th Quantile shows value as 319 seconds but the maximum seconds a call goes on for is 4918. These outliers must be treated to get a better model."
   ]
  },
  {
   "attachments": {},
   "cell_type": "markdown",
   "id": "235ce951",
   "metadata": {},
   "source": [
    "### Outlier Detection and Correction using IQR Method"
   ]
  },
  {
   "cell_type": "code",
   "execution_count": 63,
   "id": "8b3d9df5",
   "metadata": {},
   "outputs": [],
   "source": [
    "q3 = df.dur.quantile(0.75)\n",
    "q1 = df.dur.quantile(0.25)\n",
    "iqr = q3 - q1\n",
    "\n",
    "upper_threshold = q3 + (1.5 * iqr)\n",
    "lower_threshold = q1 - (1.5 * iqr)\n",
    "\n",
    "q1, q3, iqr, upper_threshold, lower_threshold\n",
    "df.dur = df.dur.clip(lower_threshold, upper_threshold)"
   ]
  },
  {
   "cell_type": "code",
   "execution_count": 64,
   "id": "3d9fea0f",
   "metadata": {},
   "outputs": [
    {
     "data": {
      "text/plain": [
       "count    45211.000000\n",
       "mean       234.939307\n",
       "std        176.749932\n",
       "min          0.000000\n",
       "25%        103.000000\n",
       "50%        180.000000\n",
       "75%        319.000000\n",
       "max        643.000000\n",
       "Name: dur, dtype: float64"
      ]
     },
     "execution_count": 64,
     "metadata": {},
     "output_type": "execute_result"
    }
   ],
   "source": [
    "df.dur.describe()"
   ]
  },
  {
   "attachments": {},
   "cell_type": "markdown",
   "id": "ae0ad06d",
   "metadata": {},
   "source": [
    "### Number of calls made"
   ]
  },
  {
   "cell_type": "code",
   "execution_count": 65,
   "id": "d610f233",
   "metadata": {},
   "outputs": [
    {
     "data": {
      "text/plain": [
       "num_calls\n",
       "1     17544\n",
       "2     12505\n",
       "3      5521\n",
       "4      3522\n",
       "5      1764\n",
       "6      1291\n",
       "7       735\n",
       "8       540\n",
       "9       327\n",
       "10      266\n",
       "11      201\n",
       "12      155\n",
       "13      133\n",
       "14       93\n",
       "15       84\n",
       "16       79\n",
       "17       69\n",
       "18       51\n",
       "19       44\n",
       "20       43\n",
       "21       35\n",
       "22       23\n",
       "25       22\n",
       "23       22\n",
       "24       20\n",
       "29       16\n",
       "28       16\n",
       "26       13\n",
       "31       12\n",
       "27       10\n",
       "32        9\n",
       "30        8\n",
       "33        6\n",
       "34        5\n",
       "36        4\n",
       "35        4\n",
       "43        3\n",
       "38        3\n",
       "37        2\n",
       "50        2\n",
       "41        2\n",
       "46        1\n",
       "58        1\n",
       "55        1\n",
       "63        1\n",
       "51        1\n",
       "39        1\n",
       "44        1\n",
       "Name: count, dtype: int64"
      ]
     },
     "execution_count": 65,
     "metadata": {},
     "output_type": "execute_result"
    }
   ],
   "source": [
    "df.num_calls.value_counts()"
   ]
  },
  {
   "cell_type": "code",
   "execution_count": 66,
   "id": "44599cd9",
   "metadata": {},
   "outputs": [
    {
     "data": {
      "text/plain": [
       "count    45211.000000\n",
       "mean         2.763841\n",
       "std          3.098021\n",
       "min          1.000000\n",
       "25%          1.000000\n",
       "50%          2.000000\n",
       "75%          3.000000\n",
       "max         63.000000\n",
       "Name: num_calls, dtype: float64"
      ]
     },
     "execution_count": 66,
     "metadata": {},
     "output_type": "execute_result"
    }
   ],
   "source": [
    "df.num_calls.describe()"
   ]
  },
  {
   "attachments": {},
   "cell_type": "markdown",
   "id": "b09d56b1",
   "metadata": {},
   "source": [
    "There are potential outliers in the data as the 75th Quantile shows value as 3 calls but the maximum calls made is given as 63. These outliers must be treated to get a better model."
   ]
  },
  {
   "attachments": {},
   "cell_type": "markdown",
   "id": "58e1c2b4",
   "metadata": {},
   "source": [
    "### Outlier Detetction and Correction using IQR Method"
   ]
  },
  {
   "cell_type": "code",
   "execution_count": 67,
   "id": "ec614014",
   "metadata": {},
   "outputs": [],
   "source": [
    "q3 = df.num_calls.quantile(0.75)\n",
    "q1 = df.num_calls.quantile(0.25)\n",
    "iqr = q3 - q1\n",
    "\n",
    "upper_threshold = q3 + (1.5 * iqr)\n",
    "lower_threshold = q1 - (1.5 * iqr)\n",
    "\n",
    "q1, q3, iqr, upper_threshold, lower_threshold\n",
    "\n",
    "df.num_calls = df.num_calls.clip(lower_threshold, upper_threshold)"
   ]
  },
  {
   "cell_type": "code",
   "execution_count": 68,
   "id": "cb4c1aff",
   "metadata": {},
   "outputs": [
    {
     "data": {
      "text/plain": [
       "count    45211.000000\n",
       "mean         2.392228\n",
       "std          1.600111\n",
       "min          1.000000\n",
       "25%          1.000000\n",
       "50%          2.000000\n",
       "75%          3.000000\n",
       "max          6.000000\n",
       "Name: num_calls, dtype: float64"
      ]
     },
     "execution_count": 68,
     "metadata": {},
     "output_type": "execute_result"
    }
   ],
   "source": [
    "df.num_calls.describe()"
   ]
  },
  {
   "attachments": {},
   "cell_type": "markdown",
   "id": "fad7fa79",
   "metadata": {},
   "source": [
    "### Outcome from Previous call"
   ]
  },
  {
   "cell_type": "code",
   "execution_count": 69,
   "id": "67bbb083",
   "metadata": {},
   "outputs": [
    {
     "data": {
      "text/plain": [
       "prev_outcome\n",
       "unknown    36959\n",
       "failure     4901\n",
       "other       1840\n",
       "success     1511\n",
       "Name: count, dtype: int64"
      ]
     },
     "execution_count": 69,
     "metadata": {},
     "output_type": "execute_result"
    }
   ],
   "source": [
    "df.prev_outcome.value_counts()"
   ]
  },
  {
   "attachments": {},
   "cell_type": "markdown",
   "id": "bfec2c10",
   "metadata": {},
   "source": [
    "## EDA"
   ]
  },
  {
   "cell_type": "code",
   "execution_count": 26,
   "id": "81330fae",
   "metadata": {
    "scrolled": true
   },
   "outputs": [
    {
     "data": {
      "text/plain": [
       "age                int64\n",
       "job               object\n",
       "marital           object\n",
       "education_qual    object\n",
       "call_type         object\n",
       "day                int64\n",
       "mon               object\n",
       "dur                int64\n",
       "num_calls          int64\n",
       "prev_outcome      object\n",
       "y                 object\n",
       "dtype: object"
      ]
     },
     "execution_count": 26,
     "metadata": {},
     "output_type": "execute_result"
    }
   ],
   "source": [
    "df.dtypes"
   ]
  },
  {
   "cell_type": "code",
   "execution_count": 80,
   "id": "c0c2ad09",
   "metadata": {},
   "outputs": [
    {
     "data": {
      "text/plain": [
       "y\n",
       "no     39922\n",
       "yes     5289\n",
       "Name: count, dtype: int64"
      ]
     },
     "execution_count": 80,
     "metadata": {},
     "output_type": "execute_result"
    }
   ],
   "source": [
    "df.y.value_counts()"
   ]
  },
  {
   "attachments": {},
   "cell_type": "markdown",
   "id": "80d15e9b",
   "metadata": {},
   "source": [
    "Target variable is classified into two outcomes: 'yes' or 'no'. These can be mapped to convert categorical data into numerical data."
   ]
  },
  {
   "cell_type": "code",
   "execution_count": 82,
   "id": "e68b7d2f",
   "metadata": {},
   "outputs": [],
   "source": [
    "df['target'] = df.y.copy()\n",
    "df.target = df.target.map({'yes' : 1, 'no' : 0})"
   ]
  },
  {
   "attachments": {},
   "cell_type": "markdown",
   "id": "1cf0659b",
   "metadata": {},
   "source": [
    "### Age"
   ]
  },
  {
   "cell_type": "code",
   "execution_count": 179,
   "id": "676a79a9",
   "metadata": {},
   "outputs": [
    {
     "data": {
      "text/plain": [
       "<Axes: xlabel='target', ylabel='age'>"
      ]
     },
     "execution_count": 179,
     "metadata": {},
     "output_type": "execute_result"
    },
    {
     "data": {
      "image/png": "[encoded data removed]",
      "text/plain": [
       "<Figure size 640x480 with 1 Axes>"
      ]
     },
     "metadata": {},
     "output_type": "display_data"
    }
   ],
   "source": [
    "sns.barplot(x = 'target', y = 'age', data = df)"
   ]
  },
  {
   "cell_type": "code",
   "execution_count": 185,
   "id": "94096698",
   "metadata": {},
   "outputs": [
    {
     "data": {
      "image/png": "[encoded data removed]",
      "text/plain": [
       "<Figure size 800x1100 with 1 Axes>"
      ]
     },
     "metadata": {},
     "output_type": "display_data"
    }
   ],
   "source": [
    "conversion_by_age = df.groupby('age')['target'].mean()\n",
    "conversion_by_age_sorted = conversion_by_age.sort_values()\n",
    "\n",
    "plt.figure(figsize = (8,11))\n",
    "plt.barh(y=conversion_by_age_sorted.index , width=conversion_by_age_sorted.values)\n",
    "plt.title('Conversion by Age')\n",
    "plt.xlabel('Mean Conversion')\n",
    "plt.ylabel('Age')\n",
    "plt.yticks(conversion_by_age_sorted.index)\n",
    "plt.show()"
   ]
  },
  {
   "attachments": {},
   "cell_type": "markdown",
   "id": "2b362d76",
   "metadata": {},
   "source": [
    "Conversion can be seen more in the age groups above 60 and below 20. The bar plot shows that there isn't significant difference in conversion based on age. Age does not seem to be an important factor in predicting conversion."
   ]
  },
  {
   "attachments": {},
   "cell_type": "markdown",
   "id": "f2285e81",
   "metadata": {},
   "source": [
    "### Marital Status"
   ]
  },
  {
   "cell_type": "code",
   "execution_count": 83,
   "id": "ab30827e",
   "metadata": {},
   "outputs": [
    {
     "data": {
      "image/png": "[encoded data removed]",
      "text/plain": [
       "<Figure size 640x480 with 1 Axes>"
      ]
     },
     "metadata": {},
     "output_type": "display_data"
    }
   ],
   "source": [
    "conversion_by_marital_status = df.groupby('marital')['target'].mean()\n",
    "conversion_by_marital_status_sorted = conversion_by_marital_status.sort_values(ascending=False)\n",
    "\n",
    "plt.bar(conversion_by_marital_status_sorted.index, conversion_by_marital_status_sorted.values)\n",
    "plt.title('Conversion According to Marital Status')\n",
    "plt.xlabel('Marital Status')\n",
    "plt.ylabel('Mean Conversion')\n",
    "plt.xticks(conversion_by_marital_status_sorted.index)  # This will ensure x-axis labels are displayed correctly\n",
    "plt.show()\n"
   ]
  },
  {
   "attachments": {},
   "cell_type": "markdown",
   "id": "0eae2772",
   "metadata": {},
   "source": [
    "Maximum conversion by single people can be seen. Since there is a noteable difference, Marital Status can be considered as an important factor."
   ]
  },
  {
   "attachments": {},
   "cell_type": "markdown",
   "id": "71465607",
   "metadata": {},
   "source": [
    "### Job"
   ]
  },
  {
   "cell_type": "code",
   "execution_count": 88,
   "id": "202702d1",
   "metadata": {},
   "outputs": [
    {
     "data": {
      "image/png": "[encoded data removed]",
      "text/plain": [
       "<Figure size 640x480 with 1 Axes>"
      ]
     },
     "metadata": {},
     "output_type": "display_data"
    }
   ],
   "source": [
    "conversion_by_employment_type = df.groupby('job')['target'].mean()\n",
    "conversion_by_employment_type_sorted = conversion_by_employment_type.sort_values()\n",
    "\n",
    "plt.barh(y=conversion_by_employment_type_sorted.index , width=conversion_by_employment_type_sorted.values)\n",
    "plt.title('Conversion by Employment type')\n",
    "plt.xlabel('Mean Conversion')\n",
    "plt.ylabel('Employment Type')\n",
    "plt.yticks(conversion_by_employment_type_sorted.index)\n",
    "plt.show()"
   ]
  },
  {
   "attachments": {},
   "cell_type": "markdown",
   "id": "583088c2",
   "metadata": {},
   "source": [
    "Maximum conversion by students followed by retired people can be seen. Since there is a noteable difference, Employment type can be considered as an important factor."
   ]
  },
  {
   "attachments": {},
   "cell_type": "markdown",
   "id": "ee43bcae",
   "metadata": {},
   "source": [
    "### Educational Qualification"
   ]
  },
  {
   "cell_type": "code",
   "execution_count": 90,
   "id": "72722f37",
   "metadata": {},
   "outputs": [
    {
     "data": {
      "image/png": "[encoded data removed]",
      "text/plain": [
       "<Figure size 640x480 with 1 Axes>"
      ]
     },
     "metadata": {},
     "output_type": "display_data"
    }
   ],
   "source": [
    "conversion_by_education = df.groupby('education_qual')['target'].mean()\n",
    "conversion_by_education_sorted = conversion_by_education.sort_values(ascending = False)\n",
    "\n",
    "plt.bar(conversion_by_education_sorted.index , conversion_by_education_sorted.values)\n",
    "plt.title('Conversion by Education Qualification')\n",
    "plt.xlabel('Education')\n",
    "plt.ylabel('Mean Conversion')\n",
    "plt.xticks(conversion_by_education_sorted.index)\n",
    "plt.show()"
   ]
  },
  {
   "attachments": {},
   "cell_type": "markdown",
   "id": "b4a58ccf",
   "metadata": {},
   "source": [
    "Maximum conversion by people having tertiary education. "
   ]
  },
  {
   "attachments": {},
   "cell_type": "markdown",
   "id": "7837394b",
   "metadata": {},
   "source": [
    "### Call Type"
   ]
  },
  {
   "cell_type": "code",
   "execution_count": 92,
   "id": "04667672",
   "metadata": {},
   "outputs": [
    {
     "data": {
      "image/png": "[encoded data removed]",
      "text/plain": [
       "<Figure size 640x480 with 1 Axes>"
      ]
     },
     "metadata": {},
     "output_type": "display_data"
    }
   ],
   "source": [
    "conversion_by_call_type = df.groupby('call_type')['target'].mean()\n",
    "conversion_by_call_type_sorted = conversion_by_call_type.sort_values(ascending = False)\n",
    "\n",
    "plt.bar(conversion_by_call_type_sorted.index , conversion_by_call_type_sorted.values)\n",
    "plt.title('Conversion by Call Type')\n",
    "plt.xlabel('Call Type')\n",
    "plt.ylabel('Mean Conversion')\n",
    "plt.xticks(conversion_by_call_type_sorted.index)\n",
    "plt.show()"
   ]
  },
  {
   "attachments": {},
   "cell_type": "markdown",
   "id": "029f747f",
   "metadata": {},
   "source": [
    "Maximum conversion through cellular calls can be seen. Since there is noteable difference, call type can be considered as an important factor."
   ]
  },
  {
   "attachments": {},
   "cell_type": "markdown",
   "id": "a1ea4d55",
   "metadata": {},
   "source": [
    "### Day of the month"
   ]
  },
  {
   "cell_type": "code",
   "execution_count": 96,
   "id": "659406fe",
   "metadata": {},
   "outputs": [
    {
     "data": {
      "image/png": "[encoded data removed]",
      "text/plain": [
       "<Figure size 600x800 with 1 Axes>"
      ]
     },
     "metadata": {},
     "output_type": "display_data"
    }
   ],
   "source": [
    "conversion_by_day = df.groupby('day')['target'].mean()\n",
    "\n",
    "plt.figure(figsize=(6,8))\n",
    "plt.barh(conversion_by_day.index , conversion_by_day.values)\n",
    "plt.title('Conversion by Day')\n",
    "plt.xlabel('Mean Conversion')\n",
    "plt.ylabel('Day')\n",
    "plt.yticks(conversion_by_day.index)\n",
    "plt.show()"
   ]
  },
  {
   "attachments": {},
   "cell_type": "markdown",
   "id": "b7011c5d",
   "metadata": {},
   "source": [
    "Maximum conversion around the 1st and last of every month. Day can be considered as an important factor influencing conversion."
   ]
  },
  {
   "attachments": {},
   "cell_type": "markdown",
   "id": "2b905aec",
   "metadata": {},
   "source": [
    "### Month"
   ]
  },
  {
   "cell_type": "code",
   "execution_count": 102,
   "id": "c24b471f",
   "metadata": {},
   "outputs": [
    {
     "data": {
      "image/png": "[encoded data removed]",
      "text/plain": [
       "<Figure size 640x480 with 1 Axes>"
      ]
     },
     "metadata": {},
     "output_type": "display_data"
    }
   ],
   "source": [
    "conversion_by_month = df.groupby('mon')['target'].mean()\n",
    "conversion_by_month_sorted = conversion_by_month.sort_values(ascending=False)\n",
    "\n",
    "plt.bar(conversion_by_month_sorted.index, conversion_by_month_sorted.values)\n",
    "plt.title('Conversion by Month')\n",
    "plt.xlabel('Month')\n",
    "plt.ylabel('Mean Conversion')\n",
    "plt.xticks(conversion_by_month_sorted.index)  # This will ensure x-axis labels are displayed correctly\n",
    "plt.show()\n"
   ]
  },
  {
   "attachments": {},
   "cell_type": "markdown",
   "id": "f366f19c",
   "metadata": {},
   "source": [
    "Maximum conversion around the month of March, December, September and October can be seen. Since there is a significant difference, Month can be considered as an important factor."
   ]
  },
  {
   "attachments": {},
   "cell_type": "markdown",
   "id": "3ce57ff0",
   "metadata": {},
   "source": [
    "### Duration"
   ]
  },
  {
   "cell_type": "code",
   "execution_count": 37,
   "id": "1170c696",
   "metadata": {},
   "outputs": [
    {
     "data": {
      "text/plain": [
       "<Axes: xlabel='dur', ylabel='num_calls'>"
      ]
     },
     "execution_count": 37,
     "metadata": {},
     "output_type": "execute_result"
    },
    {
     "data": {
      "image/png": "[encoded data removed]",
      "text/plain": [
       "<Figure size 640x480 with 1 Axes>"
      ]
     },
     "metadata": {},
     "output_type": "display_data"
    }
   ],
   "source": [
    "sns.scatterplot(x = 'dur', y = 'num_calls',hue = 'target', data = df.sample(100))"
   ]
  },
  {
   "cell_type": "code",
   "execution_count": 189,
   "id": "a61d9c68",
   "metadata": {},
   "outputs": [
    {
     "data": {
      "image/png": "[encoded data removed]",
      "text/plain": [
       "<Figure size 640x480 with 1 Axes>"
      ]
     },
     "metadata": {},
     "output_type": "display_data"
    }
   ],
   "source": [
    "conversion_by_duration = df.groupby('dur')['target'].mean()\n",
    "conversion_by_duration_sorted = conversion_by_duration.sort_values()\n",
    "\n",
    "plt.barh(conversion_by_duration_sorted.index , conversion_by_duration_sorted.values)\n",
    "plt.title('Conversion by Duration')\n",
    "plt.xlabel('Mean Conversion')\n",
    "plt.ylabel('Duration')\n",
    "plt.yticks(conversion_by_duration_sorted.index)\n",
    "plt.show()"
   ]
  },
  {
   "attachments": {},
   "cell_type": "markdown",
   "id": "e4486d43",
   "metadata": {},
   "source": [
    "Noticeable difference in conversion based on number of calls. Duration can be considered as an important feature for prediction."
   ]
  },
  {
   "attachments": {},
   "cell_type": "markdown",
   "id": "8409b150",
   "metadata": {},
   "source": [
    "### Number of calls"
   ]
  },
  {
   "cell_type": "code",
   "execution_count": 101,
   "id": "06e1efe8",
   "metadata": {},
   "outputs": [
    {
     "data": {
      "image/png": "[encoded data removed]",
      "text/plain": [
       "<Figure size 640x480 with 1 Axes>"
      ]
     },
     "metadata": {},
     "output_type": "display_data"
    }
   ],
   "source": [
    "conversion_by_num_call = df.groupby('num_calls')['target'].mean()\n",
    "\n",
    "plt.bar(conversion_by_num_call.index , conversion_by_num_call.values)\n",
    "plt.title('Conversion by Number of Calls')\n",
    "plt.xlabel('Number of calls')\n",
    "plt.ylabel('Mean Conversion')\n",
    "plt.xticks(conversion_by_num_call.index)\n",
    "plt.show()"
   ]
  },
  {
   "attachments": {},
   "cell_type": "markdown",
   "id": "5c4ff6ff",
   "metadata": {},
   "source": [
    "Maximum conversion when number of calls is less. So, this can be considered as an important feature."
   ]
  },
  {
   "attachments": {},
   "cell_type": "markdown",
   "id": "eb39c101",
   "metadata": {},
   "source": [
    "### Previous Outcome"
   ]
  },
  {
   "cell_type": "code",
   "execution_count": 103,
   "id": "a7e14f73",
   "metadata": {},
   "outputs": [
    {
     "data": {
      "image/png": "[encoded data removed]",
      "text/plain": [
       "<Figure size 640x480 with 1 Axes>"
      ]
     },
     "metadata": {},
     "output_type": "display_data"
    }
   ],
   "source": [
    "conversion_by_prev_outcome = df.groupby('prev_outcome')['target'].mean()\n",
    "conversion_by_prev_outcome_sorted = conversion_by_prev_outcome.sort_values(ascending=False)\n",
    "\n",
    "plt.bar(conversion_by_prev_outcome_sorted.index, conversion_by_prev_outcome_sorted.values)\n",
    "plt.title('Conversion by Previous Outcome')\n",
    "plt.xlabel('Month')\n",
    "plt.ylabel('Mean Conversion')\n",
    "plt.xticks(conversion_by_prev_outcome_sorted.index)  # This will ensure x-axis labels are displayed correctly\n",
    "plt.show()\n"
   ]
  },
  {
   "attachments": {},
   "cell_type": "markdown",
   "id": "dbd8424d",
   "metadata": {},
   "source": [
    "Maximum conversion when previous outcome is success. This can be an important feature."
   ]
  },
  {
   "attachments": {},
   "cell_type": "markdown",
   "id": "5bd54b35",
   "metadata": {},
   "source": [
    "## Encoding"
   ]
  },
  {
   "cell_type": "code",
   "execution_count": 42,
   "id": "436f0334",
   "metadata": {},
   "outputs": [
    {
     "data": {
      "text/plain": [
       "Index(['age', 'job', 'marital', 'education_qual', 'call_type', 'day', 'mon',\n",
       "       'dur', 'num_calls', 'prev_outcome', 'y'],\n",
       "      dtype='object')"
      ]
     },
     "execution_count": 42,
     "metadata": {},
     "output_type": "execute_result"
    }
   ],
   "source": [
    "columns"
   ]
  },
  {
   "cell_type": "code",
   "execution_count": 104,
   "id": "25f27219",
   "metadata": {},
   "outputs": [
    {
     "data": {
      "text/plain": [
       "age                int64\n",
       "job               object\n",
       "marital           object\n",
       "education_qual    object\n",
       "call_type         object\n",
       "day                int64\n",
       "mon               object\n",
       "dur                int64\n",
       "num_calls          int64\n",
       "prev_outcome      object\n",
       "y                 object\n",
       "target             int64\n",
       "dtype: object"
      ]
     },
     "execution_count": 104,
     "metadata": {},
     "output_type": "execute_result"
    }
   ],
   "source": [
    "df.dtypes"
   ]
  },
  {
   "attachments": {},
   "cell_type": "markdown",
   "id": "6e7a82dc",
   "metadata": {},
   "source": [
    "All that is in string or object format needs to be converted to numerical format as Machine Learning algorithm can only work with numerical data. I have used Label Encoding to convert categorical data into numerical data based on Feature VS Target plot. This shall help in controlling dimensionality."
   ]
  },
  {
   "cell_type": "code",
   "execution_count": 44,
   "id": "d9ec2b82",
   "metadata": {},
   "outputs": [
    {
     "data": {
      "text/plain": [
       "marital\n",
       "married     27214\n",
       "single      12790\n",
       "divorced     5207\n",
       "Name: count, dtype: int64"
      ]
     },
     "execution_count": 44,
     "metadata": {},
     "output_type": "execute_result"
    }
   ],
   "source": [
    "df.marital.value_counts()"
   ]
  },
  {
   "cell_type": "code",
   "execution_count": 105,
   "id": "10d63ae2",
   "metadata": {},
   "outputs": [
    {
     "data": {
      "text/plain": [
       "marital\n",
       "0    27214\n",
       "2    12790\n",
       "1     5207\n",
       "Name: count, dtype: int64"
      ]
     },
     "execution_count": 105,
     "metadata": {},
     "output_type": "execute_result"
    }
   ],
   "source": [
    "df.marital = df.marital.map({'single' : 2, 'married' : 0, 'divorced' : 1})\n",
    "df.marital.value_counts()"
   ]
  },
  {
   "cell_type": "code",
   "execution_count": 46,
   "id": "e0e67226",
   "metadata": {},
   "outputs": [
    {
     "data": {
      "text/plain": [
       "education_qual\n",
       "secondary    23202\n",
       "tertiary     13301\n",
       "primary       6851\n",
       "unknown       1857\n",
       "Name: count, dtype: int64"
      ]
     },
     "execution_count": 46,
     "metadata": {},
     "output_type": "execute_result"
    }
   ],
   "source": [
    "df.education_qual.value_counts()"
   ]
  },
  {
   "cell_type": "code",
   "execution_count": 106,
   "id": "771e691f",
   "metadata": {},
   "outputs": [
    {
     "data": {
      "text/plain": [
       "education_qual\n",
       "1    23202\n",
       "3    13301\n",
       "0     6851\n",
       "2     1857\n",
       "Name: count, dtype: int64"
      ]
     },
     "execution_count": 106,
     "metadata": {},
     "output_type": "execute_result"
    }
   ],
   "source": [
    "df.education_qual = df.education_qual.map({'primary' : 0, 'secondary' : 1, 'unknown' : 2, 'tertiary' : 3})\n",
    "df.education_qual.value_counts()"
   ]
  },
  {
   "cell_type": "code",
   "execution_count": 48,
   "id": "f254e6cd",
   "metadata": {},
   "outputs": [
    {
     "data": {
      "text/plain": [
       "call_type\n",
       "cellular     29285\n",
       "unknown      13020\n",
       "telephone     2906\n",
       "Name: count, dtype: int64"
      ]
     },
     "execution_count": 48,
     "metadata": {},
     "output_type": "execute_result"
    }
   ],
   "source": [
    "df.call_type.value_counts()"
   ]
  },
  {
   "cell_type": "code",
   "execution_count": 107,
   "id": "1f21c124",
   "metadata": {},
   "outputs": [
    {
     "data": {
      "text/plain": [
       "call_type\n",
       "2    29285\n",
       "0    13020\n",
       "1     2906\n",
       "Name: count, dtype: int64"
      ]
     },
     "execution_count": 107,
     "metadata": {},
     "output_type": "execute_result"
    }
   ],
   "source": [
    "df.call_type = df.call_type.map({'unknown' : 0, 'cellular' : 2, 'telephone' : 1})\n",
    "df.call_type.value_counts()"
   ]
  },
  {
   "cell_type": "code",
   "execution_count": 50,
   "id": "2221df56",
   "metadata": {},
   "outputs": [
    {
     "data": {
      "text/plain": [
       "mon\n",
       "may    13766\n",
       "jul     6895\n",
       "aug     6247\n",
       "jun     5341\n",
       "nov     3970\n",
       "apr     2932\n",
       "feb     2649\n",
       "jan     1403\n",
       "oct      738\n",
       "sep      579\n",
       "mar      477\n",
       "dec      214\n",
       "Name: count, dtype: int64"
      ]
     },
     "execution_count": 50,
     "metadata": {},
     "output_type": "execute_result"
    }
   ],
   "source": [
    "df.mon.value_counts()"
   ]
  },
  {
   "cell_type": "code",
   "execution_count": 108,
   "id": "ee62ad99",
   "metadata": {},
   "outputs": [
    {
     "data": {
      "text/plain": [
       "mon\n",
       "1     13766\n",
       "2      6895\n",
       "6      6247\n",
       "5      5341\n",
       "4      3970\n",
       "8      2932\n",
       "7      2649\n",
       "3      1403\n",
       "9       738\n",
       "10      579\n",
       "12      477\n",
       "11      214\n",
       "Name: count, dtype: int64"
      ]
     },
     "execution_count": 108,
     "metadata": {},
     "output_type": "execute_result"
    }
   ],
   "source": [
    "df.mon = df.mon.map({'jan' : 3, 'feb' : 7, 'mar' : 12, 'apr' : 8, 'may' : 1, 'jun' : 5, 'jul' : 2, 'aug' : 6, 'sep' : 10, 'oct' : 9, 'nov' : 4, 'dec' : 11})\n",
    "df.mon.value_counts()"
   ]
  },
  {
   "cell_type": "code",
   "execution_count": 109,
   "id": "3b8c29f8",
   "metadata": {},
   "outputs": [
    {
     "data": {
      "text/plain": [
       "prev_outcome\n",
       "unknown    36959\n",
       "failure     4901\n",
       "other       1840\n",
       "success     1511\n",
       "Name: count, dtype: int64"
      ]
     },
     "execution_count": 109,
     "metadata": {},
     "output_type": "execute_result"
    }
   ],
   "source": [
    "df.prev_outcome.value_counts()"
   ]
  },
  {
   "cell_type": "code",
   "execution_count": 110,
   "id": "65f82747",
   "metadata": {},
   "outputs": [
    {
     "data": {
      "text/plain": [
       "prev_outcome\n",
       "2    36959\n",
       "1     4901\n",
       "0     1840\n",
       "3     1511\n",
       "Name: count, dtype: int64"
      ]
     },
     "execution_count": 110,
     "metadata": {},
     "output_type": "execute_result"
    }
   ],
   "source": [
    "df.prev_outcome = df.prev_outcome.map({'unknown' : 2, 'success' : 3, 'failure' : 1, 'other' : 0})\n",
    "df.prev_outcome.value_counts()"
   ]
  },
  {
   "cell_type": "code",
   "execution_count": 111,
   "id": "74b8499b",
   "metadata": {},
   "outputs": [],
   "source": [
    "del df['y']"
   ]
  },
  {
   "cell_type": "code",
   "execution_count": 112,
   "id": "2d55eeae",
   "metadata": {},
   "outputs": [
    {
     "data": {
      "text/html": [
       "<div>\n",
       "<style scoped>\n",
       "    .dataframe tbody tr th:only-of-type {\n",
       "        vertical-align: middle;\n",
       "    }\n",
       "\n",
       "    .dataframe tbody tr th {\n",
       "        vertical-align: top;\n",
       "    }\n",
       "\n",
       "    .dataframe thead th {\n",
       "        text-align: right;\n",
       "    }\n",
       "</style>\n",
       "<table border=\"1\" class=\"dataframe\">\n",
       "  <thead>\n",
       "    <tr style=\"text-align: right;\">\n",
       "      <th></th>\n",
       "      <th>age</th>\n",
       "      <th>job</th>\n",
       "      <th>marital</th>\n",
       "      <th>education_qual</th>\n",
       "      <th>call_type</th>\n",
       "      <th>day</th>\n",
       "      <th>mon</th>\n",
       "      <th>dur</th>\n",
       "      <th>num_calls</th>\n",
       "      <th>prev_outcome</th>\n",
       "      <th>target</th>\n",
       "    </tr>\n",
       "  </thead>\n",
       "  <tbody>\n",
       "    <tr>\n",
       "      <th>0</th>\n",
       "      <td>58</td>\n",
       "      <td>management</td>\n",
       "      <td>0</td>\n",
       "      <td>3</td>\n",
       "      <td>0</td>\n",
       "      <td>5</td>\n",
       "      <td>1</td>\n",
       "      <td>261</td>\n",
       "      <td>1</td>\n",
       "      <td>2</td>\n",
       "      <td>0</td>\n",
       "    </tr>\n",
       "    <tr>\n",
       "      <th>1</th>\n",
       "      <td>44</td>\n",
       "      <td>technician</td>\n",
       "      <td>2</td>\n",
       "      <td>1</td>\n",
       "      <td>0</td>\n",
       "      <td>5</td>\n",
       "      <td>1</td>\n",
       "      <td>151</td>\n",
       "      <td>1</td>\n",
       "      <td>2</td>\n",
       "      <td>0</td>\n",
       "    </tr>\n",
       "    <tr>\n",
       "      <th>2</th>\n",
       "      <td>33</td>\n",
       "      <td>entrepreneur</td>\n",
       "      <td>0</td>\n",
       "      <td>1</td>\n",
       "      <td>0</td>\n",
       "      <td>5</td>\n",
       "      <td>1</td>\n",
       "      <td>76</td>\n",
       "      <td>1</td>\n",
       "      <td>2</td>\n",
       "      <td>0</td>\n",
       "    </tr>\n",
       "    <tr>\n",
       "      <th>3</th>\n",
       "      <td>47</td>\n",
       "      <td>blue-collar</td>\n",
       "      <td>0</td>\n",
       "      <td>2</td>\n",
       "      <td>0</td>\n",
       "      <td>5</td>\n",
       "      <td>1</td>\n",
       "      <td>92</td>\n",
       "      <td>1</td>\n",
       "      <td>2</td>\n",
       "      <td>0</td>\n",
       "    </tr>\n",
       "    <tr>\n",
       "      <th>4</th>\n",
       "      <td>33</td>\n",
       "      <td>unknown</td>\n",
       "      <td>2</td>\n",
       "      <td>2</td>\n",
       "      <td>0</td>\n",
       "      <td>5</td>\n",
       "      <td>1</td>\n",
       "      <td>198</td>\n",
       "      <td>1</td>\n",
       "      <td>2</td>\n",
       "      <td>0</td>\n",
       "    </tr>\n",
       "    <tr>\n",
       "      <th>...</th>\n",
       "      <td>...</td>\n",
       "      <td>...</td>\n",
       "      <td>...</td>\n",
       "      <td>...</td>\n",
       "      <td>...</td>\n",
       "      <td>...</td>\n",
       "      <td>...</td>\n",
       "      <td>...</td>\n",
       "      <td>...</td>\n",
       "      <td>...</td>\n",
       "      <td>...</td>\n",
       "    </tr>\n",
       "    <tr>\n",
       "      <th>45206</th>\n",
       "      <td>51</td>\n",
       "      <td>technician</td>\n",
       "      <td>0</td>\n",
       "      <td>3</td>\n",
       "      <td>2</td>\n",
       "      <td>17</td>\n",
       "      <td>4</td>\n",
       "      <td>643</td>\n",
       "      <td>3</td>\n",
       "      <td>2</td>\n",
       "      <td>1</td>\n",
       "    </tr>\n",
       "    <tr>\n",
       "      <th>45207</th>\n",
       "      <td>71</td>\n",
       "      <td>retired</td>\n",
       "      <td>1</td>\n",
       "      <td>0</td>\n",
       "      <td>2</td>\n",
       "      <td>17</td>\n",
       "      <td>4</td>\n",
       "      <td>456</td>\n",
       "      <td>2</td>\n",
       "      <td>2</td>\n",
       "      <td>1</td>\n",
       "    </tr>\n",
       "    <tr>\n",
       "      <th>45208</th>\n",
       "      <td>72</td>\n",
       "      <td>retired</td>\n",
       "      <td>0</td>\n",
       "      <td>1</td>\n",
       "      <td>2</td>\n",
       "      <td>17</td>\n",
       "      <td>4</td>\n",
       "      <td>643</td>\n",
       "      <td>5</td>\n",
       "      <td>3</td>\n",
       "      <td>1</td>\n",
       "    </tr>\n",
       "    <tr>\n",
       "      <th>45209</th>\n",
       "      <td>57</td>\n",
       "      <td>blue-collar</td>\n",
       "      <td>0</td>\n",
       "      <td>1</td>\n",
       "      <td>1</td>\n",
       "      <td>17</td>\n",
       "      <td>4</td>\n",
       "      <td>508</td>\n",
       "      <td>4</td>\n",
       "      <td>2</td>\n",
       "      <td>0</td>\n",
       "    </tr>\n",
       "    <tr>\n",
       "      <th>45210</th>\n",
       "      <td>37</td>\n",
       "      <td>entrepreneur</td>\n",
       "      <td>0</td>\n",
       "      <td>1</td>\n",
       "      <td>2</td>\n",
       "      <td>17</td>\n",
       "      <td>4</td>\n",
       "      <td>361</td>\n",
       "      <td>2</td>\n",
       "      <td>0</td>\n",
       "      <td>0</td>\n",
       "    </tr>\n",
       "  </tbody>\n",
       "</table>\n",
       "<p>45211 rows × 11 columns</p>\n",
       "</div>"
      ],
      "text/plain": [
       "       age           job  marital  education_qual  call_type  day  mon  dur  \\\n",
       "0       58    management        0               3          0    5    1  261   \n",
       "1       44    technician        2               1          0    5    1  151   \n",
       "2       33  entrepreneur        0               1          0    5    1   76   \n",
       "3       47   blue-collar        0               2          0    5    1   92   \n",
       "4       33       unknown        2               2          0    5    1  198   \n",
       "...    ...           ...      ...             ...        ...  ...  ...  ...   \n",
       "45206   51    technician        0               3          2   17    4  643   \n",
       "45207   71       retired        1               0          2   17    4  456   \n",
       "45208   72       retired        0               1          2   17    4  643   \n",
       "45209   57   blue-collar        0               1          1   17    4  508   \n",
       "45210   37  entrepreneur        0               1          2   17    4  361   \n",
       "\n",
       "       num_calls  prev_outcome  target  \n",
       "0              1             2       0  \n",
       "1              1             2       0  \n",
       "2              1             2       0  \n",
       "3              1             2       0  \n",
       "4              1             2       0  \n",
       "...          ...           ...     ...  \n",
       "45206          3             2       1  \n",
       "45207          2             2       1  \n",
       "45208          5             3       1  \n",
       "45209          4             2       0  \n",
       "45210          2             0       0  \n",
       "\n",
       "[45211 rows x 11 columns]"
      ]
     },
     "execution_count": 112,
     "metadata": {},
     "output_type": "execute_result"
    }
   ],
   "source": [
    "df"
   ]
  },
  {
   "cell_type": "code",
   "execution_count": 113,
   "id": "ffc1e3da",
   "metadata": {},
   "outputs": [
    {
     "data": {
      "text/plain": [
       "12"
      ]
     },
     "execution_count": 113,
     "metadata": {},
     "output_type": "execute_result"
    }
   ],
   "source": [
    "df.job.nunique()"
   ]
  },
  {
   "cell_type": "code",
   "execution_count": 114,
   "id": "41d69c2d",
   "metadata": {},
   "outputs": [
    {
     "data": {
      "text/plain": [
       "job\n",
       "blue-collar      9732\n",
       "management       9458\n",
       "technician       7597\n",
       "admin.           5171\n",
       "services         4154\n",
       "retired          2264\n",
       "self-employed    1579\n",
       "entrepreneur     1487\n",
       "unemployed       1303\n",
       "housemaid        1240\n",
       "student           938\n",
       "unknown           288\n",
       "Name: count, dtype: int64"
      ]
     },
     "execution_count": 114,
     "metadata": {},
     "output_type": "execute_result"
    }
   ],
   "source": [
    "df.job.value_counts()"
   ]
  },
  {
   "cell_type": "code",
   "execution_count": 115,
   "id": "67ba8f6d",
   "metadata": {},
   "outputs": [
    {
     "data": {
      "text/plain": [
       "job\n",
       "1     9732\n",
       "9     9458\n",
       "5     7597\n",
       "8     5171\n",
       "4     4154\n",
       "11    2264\n",
       "7     1579\n",
       "2     1487\n",
       "10    1303\n",
       "3     1240\n",
       "12     938\n",
       "6      288\n",
       "Name: count, dtype: int64"
      ]
     },
     "execution_count": 115,
     "metadata": {},
     "output_type": "execute_result"
    }
   ],
   "source": [
    "df.job = df.job.map({'student' : 12, 'retired' :11, 'unemployed' : 10, 'management' : 9, 'admin.' : 8, 'self-employed' : 7, 'unknown' : 6, 'technician' : 5, 'services' : 4, 'housemaid' : 3, 'entrepreneur' : 2, 'blue-collar' : 1 })\n",
    "df.job.value_counts()"
   ]
  },
  {
   "cell_type": "code",
   "execution_count": 116,
   "id": "df9c221d",
   "metadata": {},
   "outputs": [
    {
     "data": {
      "text/plain": [
       "age               int64\n",
       "job               int64\n",
       "marital           int64\n",
       "education_qual    int64\n",
       "call_type         int64\n",
       "day               int64\n",
       "mon               int64\n",
       "dur               int64\n",
       "num_calls         int64\n",
       "prev_outcome      int64\n",
       "target            int64\n",
       "dtype: object"
      ]
     },
     "execution_count": 116,
     "metadata": {},
     "output_type": "execute_result"
    }
   ],
   "source": [
    "df.dtypes"
   ]
  },
  {
   "cell_type": "code",
   "execution_count": 117,
   "metadata": {},
   "outputs": [
    {
     "data": {
      "text/html": [
       "<div>\n",
       "<style scoped>\n",
       "    .dataframe tbody tr th:only-of-type {\n",
       "        vertical-align: middle;\n",
       "    }\n",
       "\n",
       "    .dataframe tbody tr th {\n",
       "        vertical-align: top;\n",
       "    }\n",
       "\n",
       "    .dataframe thead th {\n",
       "        text-align: right;\n",
       "    }\n",
       "</style>\n",
       "<table border=\"1\" class=\"dataframe\">\n",
       "  <thead>\n",
       "    <tr style=\"text-align: right;\">\n",
       "      <th></th>\n",
       "      <th>age</th>\n",
       "      <th>job</th>\n",
       "      <th>marital</th>\n",
       "      <th>education_qual</th>\n",
       "      <th>call_type</th>\n",
       "      <th>day</th>\n",
       "      <th>mon</th>\n",
       "      <th>dur</th>\n",
       "      <th>num_calls</th>\n",
       "      <th>prev_outcome</th>\n",
       "      <th>target</th>\n",
       "    </tr>\n",
       "  </thead>\n",
       "  <tbody>\n",
       "    <tr>\n",
       "      <th>0</th>\n",
       "      <td>58</td>\n",
       "      <td>9</td>\n",
       "      <td>0</td>\n",
       "      <td>3</td>\n",
       "      <td>0</td>\n",
       "      <td>5</td>\n",
       "      <td>1</td>\n",
       "      <td>261</td>\n",
       "      <td>1</td>\n",
       "      <td>2</td>\n",
       "      <td>0</td>\n",
       "    </tr>\n",
       "    <tr>\n",
       "      <th>1</th>\n",
       "      <td>44</td>\n",
       "      <td>5</td>\n",
       "      <td>2</td>\n",
       "      <td>1</td>\n",
       "      <td>0</td>\n",
       "      <td>5</td>\n",
       "      <td>1</td>\n",
       "      <td>151</td>\n",
       "      <td>1</td>\n",
       "      <td>2</td>\n",
       "      <td>0</td>\n",
       "    </tr>\n",
       "    <tr>\n",
       "      <th>2</th>\n",
       "      <td>33</td>\n",
       "      <td>2</td>\n",
       "      <td>0</td>\n",
       "      <td>1</td>\n",
       "      <td>0</td>\n",
       "      <td>5</td>\n",
       "      <td>1</td>\n",
       "      <td>76</td>\n",
       "      <td>1</td>\n",
       "      <td>2</td>\n",
       "      <td>0</td>\n",
       "    </tr>\n",
       "    <tr>\n",
       "      <th>3</th>\n",
       "      <td>47</td>\n",
       "      <td>1</td>\n",
       "      <td>0</td>\n",
       "      <td>2</td>\n",
       "      <td>0</td>\n",
       "      <td>5</td>\n",
       "      <td>1</td>\n",
       "      <td>92</td>\n",
       "      <td>1</td>\n",
       "      <td>2</td>\n",
       "      <td>0</td>\n",
       "    </tr>\n",
       "    <tr>\n",
       "      <th>4</th>\n",
       "      <td>33</td>\n",
       "      <td>6</td>\n",
       "      <td>2</td>\n",
       "      <td>2</td>\n",
       "      <td>0</td>\n",
       "      <td>5</td>\n",
       "      <td>1</td>\n",
       "      <td>198</td>\n",
       "      <td>1</td>\n",
       "      <td>2</td>\n",
       "      <td>0</td>\n",
       "    </tr>\n",
       "    <tr>\n",
       "      <th>...</th>\n",
       "      <td>...</td>\n",
       "      <td>...</td>\n",
       "      <td>...</td>\n",
       "      <td>...</td>\n",
       "      <td>...</td>\n",
       "      <td>...</td>\n",
       "      <td>...</td>\n",
       "      <td>...</td>\n",
       "      <td>...</td>\n",
       "      <td>...</td>\n",
       "      <td>...</td>\n",
       "    </tr>\n",
       "    <tr>\n",
       "      <th>45206</th>\n",
       "      <td>51</td>\n",
       "      <td>5</td>\n",
       "      <td>0</td>\n",
       "      <td>3</td>\n",
       "      <td>2</td>\n",
       "      <td>17</td>\n",
       "      <td>4</td>\n",
       "      <td>643</td>\n",
       "      <td>3</td>\n",
       "      <td>2</td>\n",
       "      <td>1</td>\n",
       "    </tr>\n",
       "    <tr>\n",
       "      <th>45207</th>\n",
       "      <td>71</td>\n",
       "      <td>11</td>\n",
       "      <td>1</td>\n",
       "      <td>0</td>\n",
       "      <td>2</td>\n",
       "      <td>17</td>\n",
       "      <td>4</td>\n",
       "      <td>456</td>\n",
       "      <td>2</td>\n",
       "      <td>2</td>\n",
       "      <td>1</td>\n",
       "    </tr>\n",
       "    <tr>\n",
       "      <th>45208</th>\n",
       "      <td>72</td>\n",
       "      <td>11</td>\n",
       "      <td>0</td>\n",
       "      <td>1</td>\n",
       "      <td>2</td>\n",
       "      <td>17</td>\n",
       "      <td>4</td>\n",
       "      <td>643</td>\n",
       "      <td>5</td>\n",
       "      <td>3</td>\n",
       "      <td>1</td>\n",
       "    </tr>\n",
       "    <tr>\n",
       "      <th>45209</th>\n",
       "      <td>57</td>\n",
       "      <td>1</td>\n",
       "      <td>0</td>\n",
       "      <td>1</td>\n",
       "      <td>1</td>\n",
       "      <td>17</td>\n",
       "      <td>4</td>\n",
       "      <td>508</td>\n",
       "      <td>4</td>\n",
       "      <td>2</td>\n",
       "      <td>0</td>\n",
       "    </tr>\n",
       "    <tr>\n",
       "      <th>45210</th>\n",
       "      <td>37</td>\n",
       "      <td>2</td>\n",
       "      <td>0</td>\n",
       "      <td>1</td>\n",
       "      <td>2</td>\n",
       "      <td>17</td>\n",
       "      <td>4</td>\n",
       "      <td>361</td>\n",
       "      <td>2</td>\n",
       "      <td>0</td>\n",
       "      <td>0</td>\n",
       "    </tr>\n",
       "  </tbody>\n",
       "</table>\n",
       "<p>45211 rows × 11 columns</p>\n",
       "</div>"
      ],
      "text/plain": [
       "       age  job  marital  education_qual  call_type  day  mon  dur  num_calls  \\\n",
       "0       58    9        0               3          0    5    1  261          1   \n",
       "1       44    5        2               1          0    5    1  151          1   \n",
       "2       33    2        0               1          0    5    1   76          1   \n",
       "3       47    1        0               2          0    5    1   92          1   \n",
       "4       33    6        2               2          0    5    1  198          1   \n",
       "...    ...  ...      ...             ...        ...  ...  ...  ...        ...   \n",
       "45206   51    5        0               3          2   17    4  643          3   \n",
       "45207   71   11        1               0          2   17    4  456          2   \n",
       "45208   72   11        0               1          2   17    4  643          5   \n",
       "45209   57    1        0               1          1   17    4  508          4   \n",
       "45210   37    2        0               1          2   17    4  361          2   \n",
       "\n",
       "       prev_outcome  target  \n",
       "0                 2       0  \n",
       "1                 2       0  \n",
       "2                 2       0  \n",
       "3                 2       0  \n",
       "4                 2       0  \n",
       "...             ...     ...  \n",
       "45206             2       1  \n",
       "45207             2       1  \n",
       "45208             3       1  \n",
       "45209             2       0  \n",
       "45210             0       0  \n",
       "\n",
       "[45211 rows x 11 columns]"
      ]
     },
     "execution_count": 117,
     "metadata": {},
     "output_type": "execute_result"
    }
   ],
   "source": [
    "df"
   ]
  },
  {
   "cell_type": "code",
   "execution_count": 190,
   "id": "fa947197",
   "metadata": {},
   "outputs": [
    {
     "data": {
      "text/plain": [
       "(45211, 11)"
      ]
     },
     "execution_count": 190,
     "metadata": {},
     "output_type": "execute_result"
    }
   ],
   "source": [
    "df.drop_duplicates()\n",
    "df.shape"
   ]
  },
  {
   "attachments": {},
   "cell_type": "markdown",
   "id": "e9658a34",
   "metadata": {},
   "source": [
    "The data has been cleaned of null values, duplicates and outliers and further encoded to convert categorical data into numerical data."
   ]
  },
  {
   "attachments": {},
   "cell_type": "markdown",
   "id": "2c3b5fbf",
   "metadata": {},
   "source": [
    "## Split"
   ]
  },
  {
   "attachments": {},
   "cell_type": "markdown",
   "id": "a406e3d4",
   "metadata": {},
   "source": [
    "Data has been categorised into training and testing data so as to develop model on training dataset and evaluate on testing dataset."
   ]
  },
  {
   "cell_type": "code",
   "execution_count": 118,
   "id": "8160e372",
   "metadata": {},
   "outputs": [],
   "source": [
    "X = df.drop(columns = 'target')\n",
    "y = df.target"
   ]
  },
  {
   "cell_type": "code",
   "execution_count": 119,
   "id": "4a3b97c4",
   "metadata": {},
   "outputs": [
    {
     "data": {
      "text/plain": [
       "0        0\n",
       "1        0\n",
       "2        0\n",
       "3        0\n",
       "4        0\n",
       "        ..\n",
       "45206    1\n",
       "45207    1\n",
       "45208    1\n",
       "45209    0\n",
       "45210    0\n",
       "Name: target, Length: 45211, dtype: int64"
      ]
     },
     "execution_count": 119,
     "metadata": {},
     "output_type": "execute_result"
    }
   ],
   "source": [
    "y"
   ]
  },
  {
   "cell_type": "code",
   "execution_count": 120,
   "id": "42e0867f",
   "metadata": {},
   "outputs": [],
   "source": [
    "from sklearn.model_selection import train_test_split\n",
    "\n",
    "X_train, X_test, y_train, y_test = train_test_split(X, y, test_size = 0.2, random_state = 45)"
   ]
  },
  {
   "cell_type": "code",
   "execution_count": 121,
   "id": "9564a091",
   "metadata": {},
   "outputs": [
    {
     "data": {
      "text/plain": [
       "target\n",
       "0    7996\n",
       "1    1047\n",
       "Name: count, dtype: int64"
      ]
     },
     "execution_count": 121,
     "metadata": {},
     "output_type": "execute_result"
    }
   ],
   "source": [
    "y_test.value_counts()"
   ]
  },
  {
   "attachments": {},
   "cell_type": "markdown",
   "id": "cb1dc2dd",
   "metadata": {},
   "source": [
    "## Scale"
   ]
  },
  {
   "attachments": {},
   "cell_type": "markdown",
   "id": "0f4aff0a",
   "metadata": {},
   "source": [
    "Training data has been scaled down to uniform scale."
   ]
  },
  {
   "cell_type": "code",
   "execution_count": 122,
   "id": "8b160a8b",
   "metadata": {},
   "outputs": [],
   "source": [
    "from sklearn.preprocessing import StandardScaler\n",
    "\n",
    "scaler = StandardScaler()\n",
    "scaler.fit(X_train)\n",
    "\n",
    "X_train = scaler.transform(X_train)\n",
    "X_test = scaler.transform(X_test)"
   ]
  },
  {
   "cell_type": "code",
   "execution_count": 123,
   "id": "4e4b3bdf",
   "metadata": {},
   "outputs": [
    {
     "data": {
      "text/html": [
       "<div>\n",
       "<style scoped>\n",
       "    .dataframe tbody tr th:only-of-type {\n",
       "        vertical-align: middle;\n",
       "    }\n",
       "\n",
       "    .dataframe tbody tr th {\n",
       "        vertical-align: top;\n",
       "    }\n",
       "\n",
       "    .dataframe thead th {\n",
       "        text-align: right;\n",
       "    }\n",
       "</style>\n",
       "<table border=\"1\" class=\"dataframe\">\n",
       "  <thead>\n",
       "    <tr style=\"text-align: right;\">\n",
       "      <th></th>\n",
       "      <th>0</th>\n",
       "      <th>1</th>\n",
       "      <th>2</th>\n",
       "      <th>3</th>\n",
       "      <th>4</th>\n",
       "      <th>5</th>\n",
       "      <th>6</th>\n",
       "      <th>7</th>\n",
       "      <th>8</th>\n",
       "      <th>9</th>\n",
       "    </tr>\n",
       "  </thead>\n",
       "  <tbody>\n",
       "    <tr>\n",
       "      <th>count</th>\n",
       "      <td>3.616800e+04</td>\n",
       "      <td>3.616800e+04</td>\n",
       "      <td>3.616800e+04</td>\n",
       "      <td>3.616800e+04</td>\n",
       "      <td>3.616800e+04</td>\n",
       "      <td>3.616800e+04</td>\n",
       "      <td>3.616800e+04</td>\n",
       "      <td>3.616800e+04</td>\n",
       "      <td>3.616800e+04</td>\n",
       "      <td>3.616800e+04</td>\n",
       "    </tr>\n",
       "    <tr>\n",
       "      <th>mean</th>\n",
       "      <td>1.673807e-16</td>\n",
       "      <td>-2.494994e-17</td>\n",
       "      <td>-3.241527e-17</td>\n",
       "      <td>9.056630e-17</td>\n",
       "      <td>1.838830e-16</td>\n",
       "      <td>-1.944916e-17</td>\n",
       "      <td>-5.854394e-17</td>\n",
       "      <td>-9.154858e-17</td>\n",
       "      <td>1.147304e-16</td>\n",
       "      <td>-5.815103e-17</td>\n",
       "    </tr>\n",
       "    <tr>\n",
       "      <th>std</th>\n",
       "      <td>1.000014e+00</td>\n",
       "      <td>1.000014e+00</td>\n",
       "      <td>1.000014e+00</td>\n",
       "      <td>1.000014e+00</td>\n",
       "      <td>1.000014e+00</td>\n",
       "      <td>1.000014e+00</td>\n",
       "      <td>1.000014e+00</td>\n",
       "      <td>1.000014e+00</td>\n",
       "      <td>1.000014e+00</td>\n",
       "      <td>1.000014e+00</td>\n",
       "    </tr>\n",
       "    <tr>\n",
       "      <th>min</th>\n",
       "      <td>-2.155405e+00</td>\n",
       "      <td>-1.395650e+00</td>\n",
       "      <td>-7.691499e-01</td>\n",
       "      <td>-1.381872e+00</td>\n",
       "      <td>-1.517271e+00</td>\n",
       "      <td>-1.773457e+00</td>\n",
       "      <td>-1.051010e+00</td>\n",
       "      <td>-1.330013e+00</td>\n",
       "      <td>-8.695889e-01</td>\n",
       "      <td>-3.482895e+00</td>\n",
       "    </tr>\n",
       "    <tr>\n",
       "      <th>25%</th>\n",
       "      <td>-7.456811e-01</td>\n",
       "      <td>-8.055209e-01</td>\n",
       "      <td>-7.691499e-01</td>\n",
       "      <td>-4.440462e-01</td>\n",
       "      <td>-1.517271e+00</td>\n",
       "      <td>-9.328655e-01</td>\n",
       "      <td>-1.051010e+00</td>\n",
       "      <td>-7.458858e-01</td>\n",
       "      <td>-8.695889e-01</td>\n",
       "      <td>2.976409e-01</td>\n",
       "    </tr>\n",
       "    <tr>\n",
       "      <th>50%</th>\n",
       "      <td>-1.817918e-01</td>\n",
       "      <td>-2.153919e-01</td>\n",
       "      <td>-7.691499e-01</td>\n",
       "      <td>-4.440462e-01</td>\n",
       "      <td>7.120826e-01</td>\n",
       "      <td>2.780986e-02</td>\n",
       "      <td>5.199696e-02</td>\n",
       "      <td>-3.092082e-01</td>\n",
       "      <td>-2.450721e-01</td>\n",
       "      <td>2.976409e-01</td>\n",
       "    </tr>\n",
       "    <tr>\n",
       "      <th>75%</th>\n",
       "      <td>6.640423e-01</td>\n",
       "      <td>9.648662e-01</td>\n",
       "      <td>1.489863e+00</td>\n",
       "      <td>1.431605e+00</td>\n",
       "      <td>7.120826e-01</td>\n",
       "      <td>6.282320e-01</td>\n",
       "      <td>7.873347e-01</td>\n",
       "      <td>4.734087e-01</td>\n",
       "      <td>3.794447e-01</td>\n",
       "      <td>2.976409e-01</td>\n",
       "    </tr>\n",
       "    <tr>\n",
       "      <th>max</th>\n",
       "      <td>5.081176e+00</td>\n",
       "      <td>1.850060e+00</td>\n",
       "      <td>1.489863e+00</td>\n",
       "      <td>1.431605e+00</td>\n",
       "      <td>7.120826e-01</td>\n",
       "      <td>1.829076e+00</td>\n",
       "      <td>2.993348e+00</td>\n",
       "      <td>2.316528e+00</td>\n",
       "      <td>2.252995e+00</td>\n",
       "      <td>2.187909e+00</td>\n",
       "    </tr>\n",
       "  </tbody>\n",
       "</table>\n",
       "</div>"
      ],
      "text/plain": [
       "                  0             1             2             3             4  \\\n",
       "count  3.616800e+04  3.616800e+04  3.616800e+04  3.616800e+04  3.616800e+04   \n",
       "mean   1.673807e-16 -2.494994e-17 -3.241527e-17  9.056630e-17  1.838830e-16   \n",
       "std    1.000014e+00  1.000014e+00  1.000014e+00  1.000014e+00  1.000014e+00   \n",
       "min   -2.155405e+00 -1.395650e+00 -7.691499e-01 -1.381872e+00 -1.517271e+00   \n",
       "25%   -7.456811e-01 -8.055209e-01 -7.691499e-01 -4.440462e-01 -1.517271e+00   \n",
       "50%   -1.817918e-01 -2.153919e-01 -7.691499e-01 -4.440462e-01  7.120826e-01   \n",
       "75%    6.640423e-01  9.648662e-01  1.489863e+00  1.431605e+00  7.120826e-01   \n",
       "max    5.081176e+00  1.850060e+00  1.489863e+00  1.431605e+00  7.120826e-01   \n",
       "\n",
       "                  5             6             7             8             9  \n",
       "count  3.616800e+04  3.616800e+04  3.616800e+04  3.616800e+04  3.616800e+04  \n",
       "mean  -1.944916e-17 -5.854394e-17 -9.154858e-17  1.147304e-16 -5.815103e-17  \n",
       "std    1.000014e+00  1.000014e+00  1.000014e+00  1.000014e+00  1.000014e+00  \n",
       "min   -1.773457e+00 -1.051010e+00 -1.330013e+00 -8.695889e-01 -3.482895e+00  \n",
       "25%   -9.328655e-01 -1.051010e+00 -7.458858e-01 -8.695889e-01  2.976409e-01  \n",
       "50%    2.780986e-02  5.199696e-02 -3.092082e-01 -2.450721e-01  2.976409e-01  \n",
       "75%    6.282320e-01  7.873347e-01  4.734087e-01  3.794447e-01  2.976409e-01  \n",
       "max    1.829076e+00  2.993348e+00  2.316528e+00  2.252995e+00  2.187909e+00  "
      ]
     },
     "execution_count": 123,
     "metadata": {},
     "output_type": "execute_result"
    }
   ],
   "source": [
    "pd.DataFrame(X_train).describe()"
   ]
  },
  {
   "attachments": {},
   "cell_type": "markdown",
   "id": "147b1eab",
   "metadata": {},
   "source": [
    "## Check whether data is balanced?"
   ]
  },
  {
   "cell_type": "code",
   "execution_count": 124,
   "id": "ff59db51",
   "metadata": {},
   "outputs": [
    {
     "data": {
      "text/plain": [
       "target\n",
       "0    31926\n",
       "1     4242\n",
       "Name: count, dtype: int64"
      ]
     },
     "execution_count": 124,
     "metadata": {},
     "output_type": "execute_result"
    }
   ],
   "source": [
    "y_train.value_counts()"
   ]
  },
  {
   "cell_type": "code",
   "execution_count": 125,
   "id": "c1bcedfe",
   "metadata": {},
   "outputs": [
    {
     "data": {
      "text/plain": [
       "target\n",
       "0    88.2714\n",
       "1    11.7286\n",
       "Name: count, dtype: float64"
      ]
     },
     "execution_count": 125,
     "metadata": {},
     "output_type": "execute_result"
    }
   ],
   "source": [
    "(y_train.value_counts() / y_train.shape[0]) * 100"
   ]
  },
  {
   "cell_type": "code",
   "execution_count": 126,
   "id": "df8287a9",
   "metadata": {},
   "outputs": [
    {
     "data": {
      "text/plain": [
       "39502    0\n",
       "24747    0\n",
       "32523    0\n",
       "19884    0\n",
       "19554    0\n",
       "        ..\n",
       "32469    0\n",
       "16317    0\n",
       "12895    0\n",
       "6012     0\n",
       "6558     0\n",
       "Name: target, Length: 36168, dtype: int64"
      ]
     },
     "execution_count": 126,
     "metadata": {},
     "output_type": "execute_result"
    }
   ],
   "source": [
    "y_train"
   ]
  },
  {
   "cell_type": "code",
   "execution_count": 194,
   "id": "eade6363",
   "metadata": {},
   "outputs": [
    {
     "name": "stdout",
     "output_type": "stream",
     "text": [
      "Class 0:  31926\n",
      "Class 1:  4242\n",
      "Proportion of Class 0: 88.27 %\n"
     ]
    },
    {
     "data": {
      "text/plain": [
       "<matplotlib.legend.Legend at 0x15ce87790>"
      ]
     },
     "execution_count": 194,
     "metadata": {},
     "output_type": "execute_result"
    },
    {
     "data": {
      "image/png": "[encoded data removed]",
      "text/plain": [
       "<Figure size 640x480 with 1 Axes>"
      ]
     },
     "metadata": {},
     "output_type": "display_data"
    }
   ],
   "source": [
    "target_count = y_train.value_counts()\n",
    "print('Class 0: ',target_count[0])\n",
    "print('Class 1: ',target_count[1])\n",
    "print('Proportion of Class 0:', round((target_count[0] / (target_count[0] + target_count[1])*100),2), '%')\n",
    "\n",
    "plt.pie(target_count)\n",
    "plt.title('Proportion of Class 0 vs Class 1')\n",
    "plt.legend(target_count)"
   ]
  },
  {
   "attachments": {},
   "cell_type": "markdown",
   "id": "340cbe9f",
   "metadata": {},
   "source": [
    "Data is imbalanced as majority of training target variable belongs to Class 0. This needs to be balanced for an unbiased model. We shall balanced the data using the 'SMOTE ENN' technique to avoid errors due to random over-sampling(Duplicates) and random under_sampling(Information lass)"
   ]
  },
  {
   "cell_type": "code",
   "execution_count": 132,
   "id": "454af960",
   "metadata": {},
   "outputs": [],
   "source": [
    "from imblearn.combine import SMOTEENN\n",
    "\n",
    "smt = SMOTEENN(sampling_strategy = 'all')\n",
    "X_smt, y_smt = smt.fit_resample(X_train, y_train)"
   ]
  },
  {
   "cell_type": "code",
   "execution_count": 133,
   "id": "535d8ddd",
   "metadata": {},
   "outputs": [
    {
     "data": {
      "text/plain": [
       "(56399,)"
      ]
     },
     "execution_count": 133,
     "metadata": {},
     "output_type": "execute_result"
    }
   ],
   "source": [
    "y_smt.shape"
   ]
  },
  {
   "cell_type": "code",
   "execution_count": 136,
   "id": "d894b97f",
   "metadata": {},
   "outputs": [
    {
     "name": "stdout",
     "output_type": "stream",
     "text": [
      "Class 0:  25885\n",
      "Class 1:  30514\n",
      "Proportion of Class 0: 45.9 %\n"
     ]
    },
    {
     "data": {
      "text/plain": [
       "<Axes: title={'center': 'Target Count'}, xlabel='target'>"
      ]
     },
     "execution_count": 136,
     "metadata": {},
     "output_type": "execute_result"
    },
    {
     "data": {
      "image/png": "[encoded data removed]",
      "text/plain": [
       "<Figure size 640x480 with 1 Axes>"
      ]
     },
     "metadata": {},
     "output_type": "display_data"
    }
   ],
   "source": [
    "target_count = y_smt.value_counts()\n",
    "print('Class 0: ',target_count[0])\n",
    "print('Class 1: ',target_count[1])\n",
    "print('Proportion of Class 0:', round((target_count[0] / (target_count[0] + target_count[1])*100),2), '%')\n",
    "\n",
    "target_count.plot(kind = 'bar', title = 'Target Count')"
   ]
  },
  {
   "attachments": {},
   "cell_type": "markdown",
   "id": "f3fc9b07",
   "metadata": {},
   "source": [
    "Modelling to be done on Balanced data."
   ]
  },
  {
   "attachments": {},
   "cell_type": "markdown",
   "id": "be2701e0",
   "metadata": {},
   "source": [
    "## Model"
   ]
  },
  {
   "attachments": {},
   "cell_type": "markdown",
   "id": "b7a50b12",
   "metadata": {},
   "source": [
    "### Logistic Regression"
   ]
  },
  {
   "cell_type": "code",
   "execution_count": 137,
   "id": "d306c7c1",
   "metadata": {},
   "outputs": [
    {
     "data": {
      "text/html": [
       "<style>#sk-container-id-1 {color: black;}#sk-container-id-1 pre{padding: 0;}#sk-container-id-1 div.sk-toggleable {background-color: white;}#sk-container-id-1 label.sk-toggleable__label {cursor: pointer;display: block;width: 100%;margin-bottom: 0;padding: 0.3em;box-sizing: border-box;text-align: center;}#sk-container-id-1 label.sk-toggleable__label-arrow:before {content: \"▸\";float: left;margin-right: 0.25em;color: #696969;}#sk-container-id-1 label.sk-toggleable__label-arrow:hover:before {color: black;}#sk-container-id-1 div.sk-estimator:hover label.sk-toggleable__label-arrow:before {color: black;}#sk-container-id-1 div.sk-toggleable__content {max-height: 0;max-width: 0;overflow: hidden;text-align: left;background-color: #f0f8ff;}#sk-container-id-1 div.sk-toggleable__content pre {margin: 0.2em;color: black;border-radius: 0.25em;background-color: #f0f8ff;}#sk-container-id-1 input.sk-toggleable__control:checked~div.sk-toggleable__content {max-height: 200px;max-width: 100%;overflow: auto;}#sk-container-id-1 input.sk-toggleable__control:checked~label.sk-toggleable__label-arrow:before {content: \"▾\";}#sk-container-id-1 div.sk-estimator input.sk-toggleable__control:checked~label.sk-toggleable__label {background-color: #d4ebff;}#sk-container-id-1 div.sk-label input.sk-toggleable__control:checked~label.sk-toggleable__label {background-color: #d4ebff;}#sk-container-id-1 input.sk-hidden--visually {border: 0;clip: rect(1px 1px 1px 1px);clip: rect(1px, 1px, 1px, 1px);height: 1px;margin: -1px;overflow: hidden;padding: 0;position: absolute;width: 1px;}#sk-container-id-1 div.sk-estimator {font-family: monospace;background-color: #f0f8ff;border: 1px dotted black;border-radius: 0.25em;box-sizing: border-box;margin-bottom: 0.5em;}#sk-container-id-1 div.sk-estimator:hover {background-color: #d4ebff;}#sk-container-id-1 div.sk-parallel-item::after {content: \"\";width: 100%;border-bottom: 1px solid gray;flex-grow: 1;}#sk-container-id-1 div.sk-label:hover label.sk-toggleable__label {background-color: #d4ebff;}#sk-container-id-1 div.sk-serial::before {content: \"\";position: absolute;border-left: 1px solid gray;box-sizing: border-box;top: 0;bottom: 0;left: 50%;z-index: 0;}#sk-container-id-1 div.sk-serial {display: flex;flex-direction: column;align-items: center;background-color: white;padding-right: 0.2em;padding-left: 0.2em;position: relative;}#sk-container-id-1 div.sk-item {position: relative;z-index: 1;}#sk-container-id-1 div.sk-parallel {display: flex;align-items: stretch;justify-content: center;background-color: white;position: relative;}#sk-container-id-1 div.sk-item::before, #sk-container-id-1 div.sk-parallel-item::before {content: \"\";position: absolute;border-left: 1px solid gray;box-sizing: border-box;top: 0;bottom: 0;left: 50%;z-index: -1;}#sk-container-id-1 div.sk-parallel-item {display: flex;flex-direction: column;z-index: 1;position: relative;background-color: white;}#sk-container-id-1 div.sk-parallel-item:first-child::after {align-self: flex-end;width: 50%;}#sk-container-id-1 div.sk-parallel-item:last-child::after {align-self: flex-start;width: 50%;}#sk-container-id-1 div.sk-parallel-item:only-child::after {width: 0;}#sk-container-id-1 div.sk-dashed-wrapped {border: 1px dashed gray;margin: 0 0.4em 0.5em 0.4em;box-sizing: border-box;padding-bottom: 0.4em;background-color: white;}#sk-container-id-1 div.sk-label label {font-family: monospace;font-weight: bold;display: inline-block;line-height: 1.2em;}#sk-container-id-1 div.sk-label-container {text-align: center;}#sk-container-id-1 div.sk-container {/* jupyter's `normalize.less` sets `[hidden] { display: none; }` but bootstrap.min.css set `[hidden] { display: none !important; }` so we also need the `!important` here to be able to override the default hidden behavior on the sphinx rendered scikit-learn.org. See: https://github.com/scikit-learn/scikit-learn/issues/21755 */display: inline-block !important;position: relative;}#sk-container-id-1 div.sk-text-repr-fallback {display: none;}</style><div id=\"sk-container-id-1\" class=\"sk-top-container\"><div class=\"sk-text-repr-fallback\"><pre>LogisticRegression()</pre><b>In a Jupyter environment, please rerun this cell to show the HTML representation or trust the notebook. <br />On GitHub, the HTML representation is unable to render, please try loading this page with nbviewer.org.</b></div><div class=\"sk-container\" hidden><div class=\"sk-item\"><div class=\"sk-estimator sk-toggleable\"><input class=\"sk-toggleable__control sk-hidden--visually\" id=\"sk-estimator-id-1\" type=\"checkbox\" checked><label for=\"sk-estimator-id-1\" class=\"sk-toggleable__label sk-toggleable__label-arrow\">LogisticRegression</label><div class=\"sk-toggleable__content\"><pre>LogisticRegression()</pre></div></div></div></div></div>"
      ],
      "text/plain": [
       "LogisticRegression()"
      ]
     },
     "execution_count": 137,
     "metadata": {},
     "output_type": "execute_result"
    }
   ],
   "source": [
    "from sklearn.linear_model import LogisticRegression\n",
    "from sklearn.metrics import f1_score\n",
    "\n",
    "lr = LogisticRegression()\n",
    "lr.fit(X_smt, y_smt)"
   ]
  },
  {
   "cell_type": "code",
   "execution_count": 138,
   "id": "2c7fb41c",
   "metadata": {},
   "outputs": [
    {
     "data": {
      "text/plain": [
       "array([0, 0, 0, ..., 0, 1, 0])"
      ]
     },
     "execution_count": 138,
     "metadata": {},
     "output_type": "execute_result"
    }
   ],
   "source": [
    "y_pred = lr.predict(X_test)\n",
    "y_pred"
   ]
  },
  {
   "cell_type": "code",
   "execution_count": 139,
   "id": "d5eb60bb",
   "metadata": {},
   "outputs": [
    {
     "data": {
      "text/plain": [
       "0.8756183620276955"
      ]
     },
     "execution_count": 139,
     "metadata": {},
     "output_type": "execute_result"
    }
   ],
   "source": [
    "lr.score(X_smt, y_smt)"
   ]
  },
  {
   "cell_type": "code",
   "execution_count": 148,
   "id": "65a2c236",
   "metadata": {},
   "outputs": [],
   "source": [
    "lr_score = lr.score(X_test, y_test)\n",
    "lr_f1_score = f1_score(y_test, y_pred)\n",
    "lr_training_score = lr.score(X_smt, y_smt)"
   ]
  },
  {
   "cell_type": "code",
   "execution_count": 149,
   "id": "f9724155",
   "metadata": {},
   "outputs": [
    {
     "name": "stdout",
     "output_type": "stream",
     "text": [
      "Training Data Accuracy is:  0.8756183620276955\n",
      "Test Data Accuracy is:  0.7572708172066792 0.4530276601046599\n"
     ]
    }
   ],
   "source": [
    "print('Training Data Accuracy is: ', lr_training_score)\n",
    "print('Test Data Accuracy is: ', lr_score, lr_f1_score)"
   ]
  },
  {
   "attachments": {},
   "cell_type": "markdown",
   "id": "397eb319",
   "metadata": {},
   "source": [
    "### KNN Algorithm"
   ]
  },
  {
   "cell_type": "code",
   "execution_count": 143,
   "id": "ad8397f7",
   "metadata": {},
   "outputs": [
    {
     "name": "stdout",
     "output_type": "stream",
     "text": [
      "K Value : 1 train score :  1.0 cv score :  0.9971276124105299\n",
      "K Value : 2 train score :  0.9999468075675101 cv score :  0.9967375352000192\n",
      "K Value : 3 train score :  0.9980496108087022 cv score :  0.9919324669003482\n",
      "K Value : 4 train score :  0.9977304562137627 cv score :  0.9917374408721429\n",
      "K Value : 5 train score :  0.9941842940477668 cv score :  0.9854607319340106\n",
      "K Value : 6 train score :  0.9942729481019167 cv score :  0.9852834269694718\n",
      "K Value : 7 train score :  0.9892019362045427 cv score :  0.9784038559978067\n",
      "K Value : 10 train score :  0.9832621145764996 cv score :  0.9734924078636749\n",
      "K Value : 11 train score :  0.9785989113282151 cv score :  0.969024247294991\n",
      "K Value : 13 train score :  0.9746981329456196 cv score :  0.9653007927314713\n",
      "K Value : 16 train score :  0.9704072767247647 cv score :  0.9615418866078311\n",
      "K Value : 19 train score :  0.9647511480700013 cv score :  0.9559211903171807\n",
      "K Value : 20 train score :  0.9645383783400415 cv score :  0.9561162289224361\n",
      "K Value : 25 train score :  0.95719782265643 cv score :  0.9492898871712832\n",
      "K Value : 40 train score :  0.9455664107519637 cv score :  0.9398393942138024\n",
      "K Value : 50 train score :  0.9402826291246299 cv score :  0.9353180295787066\n"
     ]
    }
   ],
   "source": [
    "from sklearn.neighbors import KNeighborsClassifier\n",
    "from sklearn.model_selection import cross_val_score # import all the functions reqd for cross validation\n",
    "\n",
    "\n",
    "for i in [1,2,3,4,5,6,7,10,11,13,16,19,20,25,40,50]:\n",
    "    knn = KNeighborsClassifier(n_neighbors = i)\n",
    "    knn.fit(X_smt, y_smt)\n",
    "    print('K Value :', i, 'train score : ', knn.score(X_smt, y_smt), 'cv score : ', np.mean(cross_val_score(knn,X_smt, y_smt, cv = 10)))"
   ]
  },
  {
   "cell_type": "code",
   "execution_count": 154,
   "id": "52ebf729",
   "metadata": {},
   "outputs": [
    {
     "name": "stdout",
     "output_type": "stream",
     "text": [
      "Training Data Accuracy is:  1.0\n",
      "Test Data Accuracy is:  0.8277120424637842 0.4934980494148244\n"
     ]
    }
   ],
   "source": [
    "knn = KNeighborsClassifier(1)\n",
    "knn.fit(X_smt, y_smt)\n",
    "knn_score = knn.score(X_test, y_test)\n",
    "knn_f1_score = f1_score(y_test, knn.predict(X_test))\n",
    "knn_training_score = knn.score(X_smt, y_smt)\n",
    "print('Training Data Accuracy is: ', knn_training_score)\n",
    "print('Test Data Accuracy is: ', knn_score, knn_f1_score)"
   ]
  },
  {
   "attachments": {},
   "cell_type": "markdown",
   "id": "547946e9",
   "metadata": {},
   "source": [
    "### Decision Tree Classifier"
   ]
  },
  {
   "cell_type": "code",
   "execution_count": 151,
   "id": "74b5145a",
   "metadata": {},
   "outputs": [
    {
     "data": {
      "text/html": [
       "<style>#sk-container-id-2 {color: black;}#sk-container-id-2 pre{padding: 0;}#sk-container-id-2 div.sk-toggleable {background-color: white;}#sk-container-id-2 label.sk-toggleable__label {cursor: pointer;display: block;width: 100%;margin-bottom: 0;padding: 0.3em;box-sizing: border-box;text-align: center;}#sk-container-id-2 label.sk-toggleable__label-arrow:before {content: \"▸\";float: left;margin-right: 0.25em;color: #696969;}#sk-container-id-2 label.sk-toggleable__label-arrow:hover:before {color: black;}#sk-container-id-2 div.sk-estimator:hover label.sk-toggleable__label-arrow:before {color: black;}#sk-container-id-2 div.sk-toggleable__content {max-height: 0;max-width: 0;overflow: hidden;text-align: left;background-color: #f0f8ff;}#sk-container-id-2 div.sk-toggleable__content pre {margin: 0.2em;color: black;border-radius: 0.25em;background-color: #f0f8ff;}#sk-container-id-2 input.sk-toggleable__control:checked~div.sk-toggleable__content {max-height: 200px;max-width: 100%;overflow: auto;}#sk-container-id-2 input.sk-toggleable__control:checked~label.sk-toggleable__label-arrow:before {content: \"▾\";}#sk-container-id-2 div.sk-estimator input.sk-toggleable__control:checked~label.sk-toggleable__label {background-color: #d4ebff;}#sk-container-id-2 div.sk-label input.sk-toggleable__control:checked~label.sk-toggleable__label {background-color: #d4ebff;}#sk-container-id-2 input.sk-hidden--visually {border: 0;clip: rect(1px 1px 1px 1px);clip: rect(1px, 1px, 1px, 1px);height: 1px;margin: -1px;overflow: hidden;padding: 0;position: absolute;width: 1px;}#sk-container-id-2 div.sk-estimator {font-family: monospace;background-color: #f0f8ff;border: 1px dotted black;border-radius: 0.25em;box-sizing: border-box;margin-bottom: 0.5em;}#sk-container-id-2 div.sk-estimator:hover {background-color: #d4ebff;}#sk-container-id-2 div.sk-parallel-item::after {content: \"\";width: 100%;border-bottom: 1px solid gray;flex-grow: 1;}#sk-container-id-2 div.sk-label:hover label.sk-toggleable__label {background-color: #d4ebff;}#sk-container-id-2 div.sk-serial::before {content: \"\";position: absolute;border-left: 1px solid gray;box-sizing: border-box;top: 0;bottom: 0;left: 50%;z-index: 0;}#sk-container-id-2 div.sk-serial {display: flex;flex-direction: column;align-items: center;background-color: white;padding-right: 0.2em;padding-left: 0.2em;position: relative;}#sk-container-id-2 div.sk-item {position: relative;z-index: 1;}#sk-container-id-2 div.sk-parallel {display: flex;align-items: stretch;justify-content: center;background-color: white;position: relative;}#sk-container-id-2 div.sk-item::before, #sk-container-id-2 div.sk-parallel-item::before {content: \"\";position: absolute;border-left: 1px solid gray;box-sizing: border-box;top: 0;bottom: 0;left: 50%;z-index: -1;}#sk-container-id-2 div.sk-parallel-item {display: flex;flex-direction: column;z-index: 1;position: relative;background-color: white;}#sk-container-id-2 div.sk-parallel-item:first-child::after {align-self: flex-end;width: 50%;}#sk-container-id-2 div.sk-parallel-item:last-child::after {align-self: flex-start;width: 50%;}#sk-container-id-2 div.sk-parallel-item:only-child::after {width: 0;}#sk-container-id-2 div.sk-dashed-wrapped {border: 1px dashed gray;margin: 0 0.4em 0.5em 0.4em;box-sizing: border-box;padding-bottom: 0.4em;background-color: white;}#sk-container-id-2 div.sk-label label {font-family: monospace;font-weight: bold;display: inline-block;line-height: 1.2em;}#sk-container-id-2 div.sk-label-container {text-align: center;}#sk-container-id-2 div.sk-container {/* jupyter's `normalize.less` sets `[hidden] { display: none; }` but bootstrap.min.css set `[hidden] { display: none !important; }` so we also need the `!important` here to be able to override the default hidden behavior on the sphinx rendered scikit-learn.org. See: https://github.com/scikit-learn/scikit-learn/issues/21755 */display: inline-block !important;position: relative;}#sk-container-id-2 div.sk-text-repr-fallback {display: none;}</style><div id=\"sk-container-id-2\" class=\"sk-top-container\"><div class=\"sk-text-repr-fallback\"><pre>DecisionTreeClassifier()</pre><b>In a Jupyter environment, please rerun this cell to show the HTML representation or trust the notebook. <br />On GitHub, the HTML representation is unable to render, please try loading this page with nbviewer.org.</b></div><div class=\"sk-container\" hidden><div class=\"sk-item\"><div class=\"sk-estimator sk-toggleable\"><input class=\"sk-toggleable__control sk-hidden--visually\" id=\"sk-estimator-id-2\" type=\"checkbox\" checked><label for=\"sk-estimator-id-2\" class=\"sk-toggleable__label sk-toggleable__label-arrow\">DecisionTreeClassifier</label><div class=\"sk-toggleable__content\"><pre>DecisionTreeClassifier()</pre></div></div></div></div></div>"
      ],
      "text/plain": [
       "DecisionTreeClassifier()"
      ]
     },
     "execution_count": 151,
     "metadata": {},
     "output_type": "execute_result"
    }
   ],
   "source": [
    "from sklearn.tree import DecisionTreeClassifier\n",
    "\n",
    "dt = DecisionTreeClassifier()\n",
    "dt.fit(X_smt, y_smt)"
   ]
  },
  {
   "cell_type": "code",
   "execution_count": 153,
   "id": "f21fc782",
   "metadata": {},
   "outputs": [
    {
     "name": "stdout",
     "output_type": "stream",
     "text": [
      "K Value : 18 train score :  0.9961701448607245 cv score :  0.9598930196113944\n",
      "K Value : 19 train score :  0.9975531481054629 cv score :  0.959804392283225\n",
      "K Value : 20 train score :  0.9984219578361319 cv score :  0.9596625231574937\n",
      "K Value : 21 train score :  0.999113459458501 cv score :  0.9602831376973182\n",
      "K Value : 23 train score :  0.9995921913509105 cv score :  0.9602121685475646\n",
      "K Value : 25 train score :  0.9999113459458501 cv score :  0.9604427027326157\n",
      "K Value : 27 train score :  0.99998226918917 cv score :  0.9604427027326157\n",
      "K Value : 29 train score :  1.0 cv score :  0.960389517531779\n",
      "K Value : 30 train score :  1.0 cv score :  0.9599462236778061\n",
      "K Value : 33 train score :  1.0 cv score :  0.9610810194705313\n",
      "K Value : 35 train score :  1.0 cv score :  0.9600880959478003\n",
      "K Value : 37 train score :  1.0 cv score :  0.9604959193760777\n",
      "K Value : 39 train score :  1.0 cv score :  0.960637735049346\n",
      "K Value : 40 train score :  1.0 cv score :  0.9605313803689857\n",
      "K Value : 50 train score :  1.0 cv score :  0.9599462614089566\n"
     ]
    }
   ],
   "source": [
    "for depth in (18,19,20,21,23,25,27,29,30,33,35,37,39,40,50):\n",
    "    dt = DecisionTreeClassifier(max_depth = depth)\n",
    "    dt.fit(X_smt, y_smt)\n",
    "    print('K Value :', depth, 'train score : ', dt.score(X_smt, y_smt), 'cv score : ', np.mean(cross_val_score(dt,X_smt, y_smt, cv = 10)))"
   ]
  },
  {
   "cell_type": "code",
   "execution_count": 155,
   "id": "a58bad1b",
   "metadata": {},
   "outputs": [
    {
     "name": "stdout",
     "output_type": "stream",
     "text": [
      "Training Data Accuracy is:  1.0\n",
      "Test Data Accuracy is:  0.8457370341700763 0.5348449483161053\n"
     ]
    }
   ],
   "source": [
    "dt = DecisionTreeClassifier(max_depth = 33)\n",
    "dt.fit(X_smt, y_smt)\n",
    "dt_score = dt.score(X_test, y_test)\n",
    "dt_f1_score = f1_score(y_test, dt.predict(X_test))\n",
    "dt_training_score = dt.score(X_smt, y_smt)\n",
    "print('Training Data Accuracy is: ', dt_training_score)\n",
    "print('Test Data Accuracy is: ', dt_score, dt_f1_score)"
   ]
  },
  {
   "attachments": {},
   "cell_type": "markdown",
   "id": "8487e4c1",
   "metadata": {},
   "source": [
    "### Random Forest"
   ]
  },
  {
   "cell_type": "code",
   "execution_count": 158,
   "id": "a8fbe6dd",
   "metadata": {},
   "outputs": [
    {
     "name": "stdout",
     "output_type": "stream",
     "text": [
      "K Value : 4 train score :  1.0 cv score :  0.9797160259288467\n",
      "K Value : 5 train score :  1.0 cv score :  0.9800529116499958\n",
      "K Value : 6 train score :  1.0 cv score :  0.9793968707041515\n",
      "K Value : 7 train score :  1.0 cv score :  0.979680577512989\n",
      "K Value : 8 train score :  1.0 cv score :  0.9798224120518325\n",
      "K Value : 9 train score :  1.0 cv score :  0.9798578667562152\n",
      "K Value : 10 train score :  1.0 cv score :  0.9799642528792012\n",
      "K Value : 11 train score :  1.0 cv score :  0.9798046626898035\n",
      "K Value : 12 train score :  1.0 cv score :  0.979627367158052\n",
      "K Value : 14 train score :  1.0 cv score :  0.9801238367800739\n",
      "K Value : 16 train score :  1.0 cv score :  0.9796982859996051\n",
      "K Value : 18 train score :  1.0 cv score :  0.9801061031393573\n",
      "K Value : 20 train score :  1.0 cv score :  0.9796451070872936\n",
      "K Value : 25 train score :  1.0 cv score :  0.9799642623119886\n",
      "K Value : 27 train score :  1.0 cv score :  0.9800351811535417\n"
     ]
    }
   ],
   "source": [
    "from sklearn.ensemble import RandomForestClassifier\n",
    "for i in [4,5,6,7,8,9,10,11,12,14,16,18,20,25,27]:\n",
    "    rfc = RandomForestClassifier()\n",
    "    rfc.fit(X_smt, y_smt)\n",
    "    print('K Value :', i, 'train score : ', rfc.score(X_smt,y_smt), 'cv score : ', np.mean(cross_val_score(rfc,X_smt, y_smt, cv = 10)))"
   ]
  },
  {
   "cell_type": "code",
   "execution_count": 159,
   "id": "67fa9485",
   "metadata": {},
   "outputs": [
    {
     "name": "stdout",
     "output_type": "stream",
     "text": [
      "Training Data Accuracy is:  0.9994503448642706\n",
      "Test Data Accuracy is:  0.8605551255114453 0.574130361364404\n"
     ]
    }
   ],
   "source": [
    "rf = RandomForestClassifier(14)\n",
    "rf.fit(X_smt,y_smt)\n",
    "rf_score = rf.score(X_test, y_test)\n",
    "rf_f1_score = f1_score(y_test, rf.predict(X_test))\n",
    "rf_training_score = rf.score(X_smt, y_smt)\n",
    "print('Training Data Accuracy is: ', rf_training_score)\n",
    "print('Test Data Accuracy is: ', rf_score, rf_f1_score)"
   ]
  },
  {
   "attachments": {},
   "cell_type": "markdown",
   "id": "12562573",
   "metadata": {},
   "source": [
    "### XG Boost"
   ]
  },
  {
   "cell_type": "code",
   "execution_count": 160,
   "id": "5005b722",
   "metadata": {},
   "outputs": [
    {
     "name": "stdout",
     "output_type": "stream",
     "text": [
      "Learning Rate : 0.002, training score : 0.9090232096313764 and cross-val score : 0.9047678873951546\n",
      "Learning Rate : 0.005, training score : 0.9127998723381621 and cross-val score : 0.9090410848208841\n",
      "Learning Rate : 0.01, training score : 0.9220376247805813 and cross-val score : 0.9198036691028413\n",
      "Learning Rate : 0.04, training score : 0.9511870777850671 and cross-val score : 0.9467722258486051\n",
      "Learning Rate : 0.06, training score : 0.9639709923934822 and cross-val score : 0.9602299304866438\n",
      "Learning Rate : 0.07, training score : 0.9696093902374155 and cross-val score : 0.9631200391397801\n",
      "Learning Rate : 0.09, training score : 0.9730491675384315 and cross-val score : 0.9671804014342869\n",
      "Learning Rate : 0.1, training score : 0.9747513253781095 and cross-val score : 0.9684924927587633\n",
      "Learning Rate : 0.2, training score : 0.9839358853880388 and cross-val score : 0.9723755941084067\n",
      "Learning Rate : 0.3, training score : 0.9879607794464441 and cross-val score : 0.9716132267805644\n",
      "Learning Rate : 0.4, training score : 0.9908331708009007 and cross-val score : 0.9712231841569414\n",
      "Learning Rate : 0.5, training score : 0.9937942162095073 and cross-val score : 0.9705848705632885\n",
      "Learning Rate : 1, training score : 0.9993439599992908 and cross-val score : 0.9705671149127342\n"
     ]
    }
   ],
   "source": [
    "import xgboost as xgb\n",
    "\n",
    "for lr in [0.002, 0.005, 0.01, 0.04, 0.06, 0.07, 0.09, 0.1, 0.2, 0.3, 0.4, 0.5, 1]:\n",
    "  xg = xgb.XGBClassifier(learning_rate=lr)\n",
    "  xg.fit(X_smt, y_smt)\n",
    "  train_score = xg.score(X_smt, y_smt)\n",
    "  cross_val_result = np.mean(cross_val_score(xg, X_smt, y_smt, cv = 10))\n",
    "  print(f'Learning Rate : {lr}, training score : {train_score} and cross-val score : {cross_val_result}')"
   ]
  },
  {
   "cell_type": "code",
   "execution_count": 163,
   "id": "da42c905",
   "metadata": {},
   "outputs": [
    {
     "name": "stdout",
     "output_type": "stream",
     "text": [
      "Training Data Accuracy is:  0.9839358853880388\n",
      "Test Data Accuracy is:  0.8649784363596151 0.5814192663695577\n"
     ]
    }
   ],
   "source": [
    "import xgboost as xgb\n",
    "xg = xgb.XGBClassifier(learning_rate= 0.2)\n",
    "xg.fit(X_smt, y_smt)\n",
    "xg_score = xg.score(X_test, y_test)\n",
    "xg_f1_score = f1_score(y_test, xg.predict(X_test))\n",
    "xg_training_score = xg.score(X_smt, y_smt)\n",
    "print('Training Data Accuracy is: ', xg_training_score)\n",
    "print('Test Data Accuracy is: ', xg_score, xg_f1_score)"
   ]
  },
  {
   "cell_type": "code",
   "execution_count": 199,
   "id": "57ed7e0b",
   "metadata": {},
   "outputs": [
    {
     "data": {
      "text/html": [
       "<div>\n",
       "<style scoped>\n",
       "    .dataframe tbody tr th:only-of-type {\n",
       "        vertical-align: middle;\n",
       "    }\n",
       "\n",
       "    .dataframe tbody tr th {\n",
       "        vertical-align: top;\n",
       "    }\n",
       "\n",
       "    .dataframe thead th {\n",
       "        text-align: right;\n",
       "    }\n",
       "</style>\n",
       "<table border=\"1\" class=\"dataframe\">\n",
       "  <thead>\n",
       "    <tr style=\"text-align: right;\">\n",
       "      <th></th>\n",
       "      <th>Model</th>\n",
       "      <th>Training Data Accuracy Score</th>\n",
       "      <th>Testing Data Accuracy Score</th>\n",
       "      <th>f1 Score</th>\n",
       "    </tr>\n",
       "  </thead>\n",
       "  <tbody>\n",
       "    <tr>\n",
       "      <th>0</th>\n",
       "      <td>Logistic Regression</td>\n",
       "      <td>0.875618</td>\n",
       "      <td>0.757271</td>\n",
       "      <td>0.453028</td>\n",
       "    </tr>\n",
       "    <tr>\n",
       "      <th>1</th>\n",
       "      <td>KNN Algorithm</td>\n",
       "      <td>1.000000</td>\n",
       "      <td>0.827712</td>\n",
       "      <td>0.493498</td>\n",
       "    </tr>\n",
       "    <tr>\n",
       "      <th>2</th>\n",
       "      <td>Decision Tree</td>\n",
       "      <td>1.000000</td>\n",
       "      <td>0.845737</td>\n",
       "      <td>0.534845</td>\n",
       "    </tr>\n",
       "    <tr>\n",
       "      <th>3</th>\n",
       "      <td>Random Forest</td>\n",
       "      <td>0.999450</td>\n",
       "      <td>0.860555</td>\n",
       "      <td>0.574130</td>\n",
       "    </tr>\n",
       "    <tr>\n",
       "      <th>4</th>\n",
       "      <td>XG Boost</td>\n",
       "      <td>0.983936</td>\n",
       "      <td>0.864978</td>\n",
       "      <td>0.581419</td>\n",
       "    </tr>\n",
       "  </tbody>\n",
       "</table>\n",
       "</div>"
      ],
      "text/plain": [
       "                 Model  Training Data Accuracy Score  \\\n",
       "0  Logistic Regression                      0.875618   \n",
       "1        KNN Algorithm                      1.000000   \n",
       "2        Decision Tree                      1.000000   \n",
       "3        Random Forest                      0.999450   \n",
       "4             XG Boost                      0.983936   \n",
       "\n",
       "   Testing Data Accuracy Score  f1 Score  \n",
       "0                     0.757271  0.453028  \n",
       "1                     0.827712  0.493498  \n",
       "2                     0.845737  0.534845  \n",
       "3                     0.860555  0.574130  \n",
       "4                     0.864978  0.581419  "
      ]
     },
     "execution_count": 199,
     "metadata": {},
     "output_type": "execute_result"
    }
   ],
   "source": [
    "Models = {'Model': ['Logistic Regression','KNN Algorithm', 'Decision Tree', 'Random Forest', 'XG Boost'],\n",
    "          'Training Data Accuracy Score' : [lr_training_score,knn_training_score,dt_training_score,rf_training_score,xg_training_score],\n",
    "          'Testing Data Accuracy Score' : [lr_score,knn_score,dt_score,rf_score,xg_score],\n",
    "          'f1 Score' : [lr_f1_score,knn_f1_score,dt_f1_score,rf_f1_score,xg_f1_score]}\n",
    "\n",
    "\n",
    "models_df = pd.DataFrame(Models)\n",
    "models_df"
   ]
  },
  {
   "attachments": {},
   "cell_type": "markdown",
   "id": "6e896ffa",
   "metadata": {},
   "source": [
    "We can see a table containing the 5 models used and it shows that XG Boost is giving the best result for this problem. So, we will be using XGBoost as our final model for Customer conversion prediction."
   ]
  },
  {
   "cell_type": "code",
   "execution_count": 186,
   "id": "2cb77122",
   "metadata": {},
   "outputs": [
    {
     "data": {
      "text/plain": [
       "[('age', 0.02354978),\n",
       " ('job', 0.04145135),\n",
       " ('marital', 0.02385212),\n",
       " ('education_qual', 0.031859618),\n",
       " ('call_type', 0.25890285),\n",
       " ('day', 0.030582814),\n",
       " ('mon', 0.11857723),\n",
       " ('dur', 0.23896256),\n",
       " ('num_calls', 0.07106661),\n",
       " ('prev_outcome', 0.16119504)]"
      ]
     },
     "execution_count": 186,
     "metadata": {},
     "output_type": "execute_result"
    }
   ],
   "source": [
    "list(zip(X.columns, xg.feature_importances_))\n"
   ]
  },
  {
   "cell_type": "code",
   "execution_count": 198,
   "id": "ee48c544",
   "metadata": {},
   "outputs": [
    {
     "data": {
      "image/png": "[encoded data removed]",
      "text/plain": [
       "<Figure size 640x480 with 1 Axes>"
      ]
     },
     "metadata": {},
     "output_type": "display_data"
    }
   ],
   "source": [
    "feature_importance_list = list(zip(X.columns, xg.feature_importances_))\n",
    "feature_importance_list.sort(key=lambda x: x[1], reverse=False)\n",
    "\n",
    "feature_names = [feature for feature, importance in feature_importance_list]\n",
    "importance_values = [importance for feature, importance in feature_importance_list]\n",
    "\n",
    "plt.barh(y=feature_names, width=importance_values)\n",
    "plt.xlabel('Feature Importance')\n",
    "plt.ylabel('Feature')\n",
    "plt.title('Feature Importance Plot')\n",
    "plt.show()\n"
   ]
  },
  {
   "attachments": {},
   "cell_type": "markdown",
   "id": "250c59c5",
   "metadata": {},
   "source": [
    "Based on the above Graph, we can see that call type and duration of call are the two most important features in predicting the customer conversion. Age and Marital status do not play an important role in customer conversion."
   ]
  }
 ],
 "metadata": {
  "kernelspec": {
   "display_name": "Python 3 (ipykernel)",
   "language": "python",
   "name": "python3"
  },
  "language_info": {
   "codemirror_mode": {
    "name": "ipython",
    "version": 3
   },
   "file_extension": ".py",
   "mimetype": "text/x-python",
   "name": "python",
   "nbconvert_exporter": "python",
   "pygments_lexer": "ipython3",
   "version": "3.9.6"
  }
 },
 "nbformat": 4,
 "nbformat_minor": 5
}
